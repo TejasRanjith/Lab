{
 "cells": [
  {
   "cell_type": "code",
   "execution_count": 2,
   "id": "b97c9e41",
   "metadata": {},
   "outputs": [],
   "source": [
    "import pandas as pd\n",
    "import csv"
   ]
  },
  {
   "cell_type": "code",
   "execution_count": 4,
   "id": "077d9a47",
   "metadata": {},
   "outputs": [
    {
     "data": {
      "text/plain": [
       "[['Name', 'Branch', 'Year', 'CGPA'],\n",
       " ['Natalie', 'AD', 2020, 9.7],\n",
       " ['Rhyn', 'CSE', 2021, 7.8],\n",
       " ['Zendaya', 'AD', 2020, 10],\n",
       " ['Nate', 'EEE', 2019, 10],\n",
       " ['Zoyer', 'EEE', 2019, 8.5],\n",
       " ['Kate', 'EC', 2020, 9.6],\n",
       " ['Nadal', 'MR', 2022, 8.6]]"
      ]
     },
     "execution_count": 4,
     "metadata": {},
     "output_type": "execute_result"
    }
   ],
   "source": [
    "\n",
    "stud_list=[\n",
    "    ['Name','Branch','Year','CGPA'],\n",
    "    ['Natalie','AD',2020,9.7],\n",
    "    ['Rhyn','CSE',2021,7.8],\n",
    "    ['Zendaya','AD',2020,10],\n",
    "    ['Nate','EEE',2019,10],\n",
    "    ['Zoyer','EEE',2019,8.5],\n",
    "    ['Kate','EC',2020,9.6],\n",
    "    ['Nadal','MR',2022,8.6]\n",
    "]\n",
    "\n",
    "stud_list"
   ]
  },
  {
   "cell_type": "code",
   "execution_count": 5,
   "id": "ee75acf9",
   "metadata": {},
   "outputs": [],
   "source": [
    "with open('Stud_Details.csv','w',newline='') as stud_file:\n",
    "    writer=csv.writer(stud_file)\n",
    "    writer.writerows(stud_list)"
   ]
  },
  {
   "cell_type": "code",
   "execution_count": 7,
   "id": "a6b4bd29",
   "metadata": {},
   "outputs": [
    {
     "data": {
      "text/html": [
       "<div>\n",
       "<style scoped>\n",
       "    .dataframe tbody tr th:only-of-type {\n",
       "        vertical-align: middle;\n",
       "    }\n",
       "\n",
       "    .dataframe tbody tr th {\n",
       "        vertical-align: top;\n",
       "    }\n",
       "\n",
       "    .dataframe thead th {\n",
       "        text-align: right;\n",
       "    }\n",
       "</style>\n",
       "<table border=\"1\" class=\"dataframe\">\n",
       "  <thead>\n",
       "    <tr style=\"text-align: right;\">\n",
       "      <th></th>\n",
       "      <th>Name</th>\n",
       "      <th>Branch</th>\n",
       "      <th>Year</th>\n",
       "      <th>CGPA</th>\n",
       "    </tr>\n",
       "  </thead>\n",
       "  <tbody>\n",
       "    <tr>\n",
       "      <th>0</th>\n",
       "      <td>Natalie</td>\n",
       "      <td>AD</td>\n",
       "      <td>2020</td>\n",
       "      <td>9.7</td>\n",
       "    </tr>\n",
       "    <tr>\n",
       "      <th>1</th>\n",
       "      <td>Rhyn</td>\n",
       "      <td>CSE</td>\n",
       "      <td>2021</td>\n",
       "      <td>7.8</td>\n",
       "    </tr>\n",
       "    <tr>\n",
       "      <th>2</th>\n",
       "      <td>Zendaya</td>\n",
       "      <td>AD</td>\n",
       "      <td>2020</td>\n",
       "      <td>10.0</td>\n",
       "    </tr>\n",
       "    <tr>\n",
       "      <th>3</th>\n",
       "      <td>Nate</td>\n",
       "      <td>EEE</td>\n",
       "      <td>2019</td>\n",
       "      <td>10.0</td>\n",
       "    </tr>\n",
       "    <tr>\n",
       "      <th>4</th>\n",
       "      <td>Zoyer</td>\n",
       "      <td>EEE</td>\n",
       "      <td>2019</td>\n",
       "      <td>8.5</td>\n",
       "    </tr>\n",
       "    <tr>\n",
       "      <th>5</th>\n",
       "      <td>Kate</td>\n",
       "      <td>EC</td>\n",
       "      <td>2020</td>\n",
       "      <td>9.6</td>\n",
       "    </tr>\n",
       "    <tr>\n",
       "      <th>6</th>\n",
       "      <td>Nadal</td>\n",
       "      <td>MR</td>\n",
       "      <td>2022</td>\n",
       "      <td>8.6</td>\n",
       "    </tr>\n",
       "  </tbody>\n",
       "</table>\n",
       "</div>"
      ],
      "text/plain": [
       "      Name Branch  Year  CGPA\n",
       "0  Natalie     AD  2020   9.7\n",
       "1     Rhyn    CSE  2021   7.8\n",
       "2  Zendaya     AD  2020  10.0\n",
       "3     Nate    EEE  2019  10.0\n",
       "4    Zoyer    EEE  2019   8.5\n",
       "5     Kate     EC  2020   9.6\n",
       "6    Nadal     MR  2022   8.6"
      ]
     },
     "execution_count": 7,
     "metadata": {},
     "output_type": "execute_result"
    }
   ],
   "source": [
    "data=pd.read_csv('Stud_Details.csv')\n",
    "data"
   ]
  },
  {
   "cell_type": "code",
   "execution_count": 9,
   "id": "3270aa5d",
   "metadata": {},
   "outputs": [
    {
     "name": "stdout",
     "output_type": "stream",
     "text": [
      "Rows:  7\n",
      "Columns: 4\n"
     ]
    }
   ],
   "source": [
    "num_rows = data.shape[0]\n",
    "print(f\"Rows: \",num_rows)\n",
    "num_column = data.shape[1]\n",
    "print(f\"Columns:\",num_column)"
   ]
  },
  {
   "cell_type": "code",
   "execution_count": 11,
   "id": "9ba96b93",
   "metadata": {},
   "outputs": [
    {
     "data": {
      "text/plain": [
       "0    2020\n",
       "1    2021\n",
       "2    2020\n",
       "3    2019\n",
       "4    2019\n",
       "5    2020\n",
       "6    2022\n",
       "Name: Year, dtype: int64"
      ]
     },
     "execution_count": 11,
     "metadata": {},
     "output_type": "execute_result"
    }
   ],
   "source": [
    "data.columns\n",
    "year=data['Year']\n",
    "year"
   ]
  },
  {
   "cell_type": "code",
   "execution_count": 13,
   "id": "d0e98e65",
   "metadata": {},
   "outputs": [
    {
     "data": {
      "text/html": [
       "<div>\n",
       "<style scoped>\n",
       "    .dataframe tbody tr th:only-of-type {\n",
       "        vertical-align: middle;\n",
       "    }\n",
       "\n",
       "    .dataframe tbody tr th {\n",
       "        vertical-align: top;\n",
       "    }\n",
       "\n",
       "    .dataframe thead th {\n",
       "        text-align: right;\n",
       "    }\n",
       "</style>\n",
       "<table border=\"1\" class=\"dataframe\">\n",
       "  <thead>\n",
       "    <tr style=\"text-align: right;\">\n",
       "      <th></th>\n",
       "      <th>Name</th>\n",
       "      <th>Branch</th>\n",
       "      <th>Year</th>\n",
       "      <th>CGPA</th>\n",
       "    </tr>\n",
       "  </thead>\n",
       "  <tbody>\n",
       "    <tr>\n",
       "      <th>2</th>\n",
       "      <td>Zendaya</td>\n",
       "      <td>AD</td>\n",
       "      <td>2020</td>\n",
       "      <td>10.0</td>\n",
       "    </tr>\n",
       "    <tr>\n",
       "      <th>3</th>\n",
       "      <td>Nate</td>\n",
       "      <td>EEE</td>\n",
       "      <td>2019</td>\n",
       "      <td>10.0</td>\n",
       "    </tr>\n",
       "    <tr>\n",
       "      <th>0</th>\n",
       "      <td>Natalie</td>\n",
       "      <td>AD</td>\n",
       "      <td>2020</td>\n",
       "      <td>9.7</td>\n",
       "    </tr>\n",
       "    <tr>\n",
       "      <th>5</th>\n",
       "      <td>Kate</td>\n",
       "      <td>EC</td>\n",
       "      <td>2020</td>\n",
       "      <td>9.6</td>\n",
       "    </tr>\n",
       "    <tr>\n",
       "      <th>6</th>\n",
       "      <td>Nadal</td>\n",
       "      <td>MR</td>\n",
       "      <td>2022</td>\n",
       "      <td>8.6</td>\n",
       "    </tr>\n",
       "    <tr>\n",
       "      <th>4</th>\n",
       "      <td>Zoyer</td>\n",
       "      <td>EEE</td>\n",
       "      <td>2019</td>\n",
       "      <td>8.5</td>\n",
       "    </tr>\n",
       "    <tr>\n",
       "      <th>1</th>\n",
       "      <td>Rhyn</td>\n",
       "      <td>CSE</td>\n",
       "      <td>2021</td>\n",
       "      <td>7.8</td>\n",
       "    </tr>\n",
       "  </tbody>\n",
       "</table>\n",
       "</div>"
      ],
      "text/plain": [
       "      Name Branch  Year  CGPA\n",
       "2  Zendaya     AD  2020  10.0\n",
       "3     Nate    EEE  2019  10.0\n",
       "0  Natalie     AD  2020   9.7\n",
       "5     Kate     EC  2020   9.6\n",
       "6    Nadal     MR  2022   8.6\n",
       "4    Zoyer    EEE  2019   8.5\n",
       "1     Rhyn    CSE  2021   7.8"
      ]
     },
     "execution_count": 13,
     "metadata": {},
     "output_type": "execute_result"
    }
   ],
   "source": [
    "data.sort_values(['CGPA'],ascending=False)"
   ]
  },
  {
   "cell_type": "code",
   "execution_count": 15,
   "id": "66855bf9",
   "metadata": {},
   "outputs": [
    {
     "data": {
      "image/png": "[encoded data removed]",
      "text/plain": [
       "<Figure size 640x480 with 1 Axes>"
      ]
     },
     "metadata": {},
     "output_type": "display_data"
    }
   ],
   "source": [
    "import matplotlib.pyplot as plt\n",
    "\n",
    "plt.hist(data['CGPA'],bins=5,edgecolor='black')\n",
    "plt.title('Chart Distribution')\n",
    "plt.xlabel('CGPA')\n",
    "plt.ylabel('Frequency')\n",
    "plt.show()"
   ]
  },
  {
   "cell_type": "code",
   "execution_count": 22,
   "id": "b9f1937c",
   "metadata": {},
   "outputs": [
    {
     "data": {
      "image/png": "[encoded data removed]",
      "text/plain": [
       "<Figure size 640x480 with 1 Axes>"
      ]
     },
     "metadata": {},
     "output_type": "display_data"
    }
   ],
   "source": [
    "plt.bar(data['Name'],data['CGPA'],color = 'Orange',edgecolor='black')\n",
    "plt.title('Marks Representation')\n",
    "plt.xlabel('Name')\n",
    "plt.ylabel('CGPA')\n",
    "plt.show()"
   ]
  },
  {
   "cell_type": "code",
   "execution_count": null,
   "id": "b3c9c034",
   "metadata": {},
   "outputs": [],
   "source": []
  }
 ],
 "metadata": {
  "kernelspec": {
   "display_name": "Python 3 (ipykernel)",
   "language": "python",
   "name": "python3"
  },
  "language_info": {
   "codemirror_mode": {
    "name": "ipython",
    "version": 3
   },
   "file_extension": ".py",
   "mimetype": "text/x-python",
   "name": "python",
   "nbconvert_exporter": "python",
   "pygments_lexer": "ipython3",
   "version": "3.8.10"
  }
 },
 "nbformat": 4,
 "nbformat_minor": 5
}
