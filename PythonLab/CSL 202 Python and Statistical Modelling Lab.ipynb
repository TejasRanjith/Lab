{
 "cells": [
  {
   "cell_type": "markdown",
   "id": "3f440e2c",
   "metadata": {},
   "source": [
    "# DATA TYPES IN PYTHON"
   ]
  },
  {
   "cell_type": "markdown",
   "id": "1466b7b4",
   "metadata": {},
   "source": [
    "1. FLOAT\n",
    "2. INTEGER\n",
    "3. STRING\n",
    "4. BOOLEAN"
   ]
  },
  {
   "cell_type": "code",
   "execution_count": 1,
   "id": "65d867ec",
   "metadata": {},
   "outputs": [],
   "source": [
    "sales=150.5"
   ]
  },
  {
   "cell_type": "code",
   "execution_count": 2,
   "id": "3d4d3fd1",
   "metadata": {},
   "outputs": [
    {
     "data": {
      "text/plain": [
       "float"
      ]
     },
     "execution_count": 2,
     "metadata": {},
     "output_type": "execute_result"
    }
   ],
   "source": [
    "type(sales)"
   ]
  },
  {
   "cell_type": "code",
   "execution_count": 3,
   "id": "31956429",
   "metadata": {},
   "outputs": [],
   "source": [
    "quantity=19"
   ]
  },
  {
   "cell_type": "code",
   "execution_count": 4,
   "id": "be134d5d",
   "metadata": {},
   "outputs": [
    {
     "data": {
      "text/plain": [
       "int"
      ]
     },
     "execution_count": 4,
     "metadata": {},
     "output_type": "execute_result"
    }
   ],
   "source": [
    "type(quantity)"
   ]
  },
  {
   "cell_type": "code",
   "execution_count": 5,
   "id": "44996f20",
   "metadata": {},
   "outputs": [
    {
     "data": {
      "text/plain": [
       "int"
      ]
     },
     "execution_count": 5,
     "metadata": {},
     "output_type": "execute_result"
    }
   ],
   "source": [
    "a=50\n",
    "type(a)"
   ]
  },
  {
   "cell_type": "code",
   "execution_count": 6,
   "id": "73c82f25",
   "metadata": {},
   "outputs": [
    {
     "data": {
      "text/plain": [
       "complex"
      ]
     },
     "execution_count": 6,
     "metadata": {},
     "output_type": "execute_result"
    }
   ],
   "source": [
    "comp=1+2j\n",
    "type(comp)"
   ]
  },
  {
   "cell_type": "code",
   "execution_count": 7,
   "id": "8c9a1877",
   "metadata": {},
   "outputs": [
    {
     "data": {
      "text/plain": [
       "False"
      ]
     },
     "execution_count": 7,
     "metadata": {},
     "output_type": "execute_result"
    }
   ],
   "source": [
    "a=30\n",
    "b=a<20\n",
    "b"
   ]
  },
  {
   "cell_type": "code",
   "execution_count": 8,
   "id": "a1cbf4f9",
   "metadata": {},
   "outputs": [
    {
     "data": {
      "text/plain": [
       "bool"
      ]
     },
     "execution_count": 8,
     "metadata": {},
     "output_type": "execute_result"
    }
   ],
   "source": [
    "type(b)"
   ]
  },
  {
   "cell_type": "markdown",
   "id": "921d1e01",
   "metadata": {},
   "source": [
    "# PYTHON COLLECTION DATATYPES"
   ]
  },
  {
   "cell_type": "markdown",
   "id": "4bb18603",
   "metadata": {},
   "source": [
    "1. Lists\n",
    "2. Tuples\n",
    "3. Dictionaries\n",
    "4. Sets"
   ]
  },
  {
   "cell_type": "code",
   "execution_count": 9,
   "id": "37ce0ad8",
   "metadata": {},
   "outputs": [],
   "source": [
    "agegroup=[15,20,25,30,35,40,45,50,55,60]"
   ]
  },
  {
   "cell_type": "code",
   "execution_count": 10,
   "id": "d7f43d86",
   "metadata": {},
   "outputs": [
    {
     "data": {
      "text/plain": [
       "[15, 20, 25, 30, 35, 40, 45, 50, 55, 60]"
      ]
     },
     "execution_count": 10,
     "metadata": {},
     "output_type": "execute_result"
    }
   ],
   "source": [
    "agegroup"
   ]
  },
  {
   "cell_type": "code",
   "execution_count": 11,
   "id": "7d66f91e",
   "metadata": {},
   "outputs": [
    {
     "data": {
      "text/plain": [
       "[60, 55, 50, 45, 40]"
      ]
     },
     "execution_count": 11,
     "metadata": {},
     "output_type": "execute_result"
    }
   ],
   "source": [
    "agegroup[-1:-6:-1]"
   ]
  },
  {
   "cell_type": "code",
   "execution_count": 12,
   "id": "096956fc",
   "metadata": {},
   "outputs": [
    {
     "data": {
      "text/plain": [
       "10"
      ]
     },
     "execution_count": 12,
     "metadata": {},
     "output_type": "execute_result"
    }
   ],
   "source": [
    "len(agegroup)"
   ]
  },
  {
   "cell_type": "code",
   "execution_count": 13,
   "id": "2e2be5bf",
   "metadata": {},
   "outputs": [
    {
     "data": {
      "text/plain": [
       "60"
      ]
     },
     "execution_count": 13,
     "metadata": {},
     "output_type": "execute_result"
    }
   ],
   "source": [
    "max(agegroup)"
   ]
  },
  {
   "cell_type": "code",
   "execution_count": 14,
   "id": "5e9f8601",
   "metadata": {},
   "outputs": [
    {
     "data": {
      "text/plain": [
       "15"
      ]
     },
     "execution_count": 14,
     "metadata": {},
     "output_type": "execute_result"
    }
   ],
   "source": [
    "min(agegroup)"
   ]
  },
  {
   "cell_type": "code",
   "execution_count": 15,
   "id": "b2231c6f",
   "metadata": {},
   "outputs": [
    {
     "data": {
      "text/plain": [
       "375"
      ]
     },
     "execution_count": 15,
     "metadata": {},
     "output_type": "execute_result"
    }
   ],
   "source": [
    "sum(agegroup)"
   ]
  },
  {
   "cell_type": "code",
   "execution_count": 16,
   "id": "d062b634",
   "metadata": {},
   "outputs": [],
   "source": [
    "agegroup.append(65)"
   ]
  },
  {
   "cell_type": "code",
   "execution_count": 17,
   "id": "c64688ad",
   "metadata": {},
   "outputs": [],
   "source": [
    "agegroup.extend([70,75,80,85])"
   ]
  },
  {
   "cell_type": "code",
   "execution_count": 18,
   "id": "0bb15da9",
   "metadata": {},
   "outputs": [
    {
     "data": {
      "text/plain": [
       "[15, 20, 25, 30, 35, 40, 45, 50, 55, 60, 65, 70, 75, 80, 85]"
      ]
     },
     "execution_count": 18,
     "metadata": {},
     "output_type": "execute_result"
    }
   ],
   "source": [
    "agegroup"
   ]
  },
  {
   "cell_type": "code",
   "execution_count": 19,
   "id": "442c7f59",
   "metadata": {},
   "outputs": [
    {
     "data": {
      "text/plain": [
       "[15, 20, 25, 30, 35, 40, 45, 50, 55, 60, 65, 70, 75, 80, 85]"
      ]
     },
     "execution_count": 19,
     "metadata": {},
     "output_type": "execute_result"
    }
   ],
   "source": [
    "agegroup"
   ]
  },
  {
   "cell_type": "code",
   "execution_count": 20,
   "id": "5a5aab20",
   "metadata": {},
   "outputs": [],
   "source": [
    "agegroup.append(80)"
   ]
  },
  {
   "cell_type": "code",
   "execution_count": 21,
   "id": "c2fcc6c6",
   "metadata": {},
   "outputs": [],
   "source": [
    "agegroup.insert(0,10)"
   ]
  },
  {
   "cell_type": "code",
   "execution_count": 22,
   "id": "3745322b",
   "metadata": {},
   "outputs": [
    {
     "data": {
      "text/plain": [
       "[10, 15, 20, 25, 30, 35, 40, 45, 50, 55, 60, 65, 70, 75, 80, 85, 80]"
      ]
     },
     "execution_count": 22,
     "metadata": {},
     "output_type": "execute_result"
    }
   ],
   "source": [
    "agegroup"
   ]
  },
  {
   "cell_type": "code",
   "execution_count": 23,
   "id": "7477d8c4",
   "metadata": {},
   "outputs": [],
   "source": [
    "newgrp=agegroup.copy()"
   ]
  },
  {
   "cell_type": "code",
   "execution_count": 24,
   "id": "1f16318e",
   "metadata": {},
   "outputs": [
    {
     "data": {
      "text/plain": [
       "[10, 15, 20, 25, 30, 35, 40, 45, 50, 55, 60, 65, 70, 75, 80, 85, 80]"
      ]
     },
     "execution_count": 24,
     "metadata": {},
     "output_type": "execute_result"
    }
   ],
   "source": [
    "newgrp"
   ]
  },
  {
   "cell_type": "code",
   "execution_count": 25,
   "id": "3ff7fa5c",
   "metadata": {},
   "outputs": [],
   "source": [
    "newgrp.clear()"
   ]
  },
  {
   "cell_type": "code",
   "execution_count": 26,
   "id": "79ec7961",
   "metadata": {},
   "outputs": [],
   "source": [
    "agegroup.reverse()"
   ]
  },
  {
   "cell_type": "code",
   "execution_count": 27,
   "id": "c28183c4",
   "metadata": {},
   "outputs": [],
   "source": [
    "agegroup.sort()"
   ]
  },
  {
   "cell_type": "code",
   "execution_count": 28,
   "id": "761de470",
   "metadata": {},
   "outputs": [
    {
     "data": {
      "text/plain": [
       "[10, 15, 20, 25, 30, 35, 40, 45, 50, 55, 60, 65, 70, 75, 80, 80, 85]"
      ]
     },
     "execution_count": 28,
     "metadata": {},
     "output_type": "execute_result"
    }
   ],
   "source": [
    "agegroup"
   ]
  },
  {
   "cell_type": "markdown",
   "id": "ff96a542",
   "metadata": {},
   "source": [
    "# TUPLE"
   ]
  },
  {
   "cell_type": "code",
   "execution_count": 29,
   "id": "cfa220fc",
   "metadata": {},
   "outputs": [
    {
     "data": {
      "text/plain": [
       "(10, 15, 20, 25, 30, 35, 40)"
      ]
     },
     "execution_count": 29,
     "metadata": {},
     "output_type": "execute_result"
    }
   ],
   "source": [
    "tup=(10, 15, 20, 25, 30, 35, 40)\n",
    "tup"
   ]
  },
  {
   "cell_type": "code",
   "execution_count": 30,
   "id": "ef97f362",
   "metadata": {},
   "outputs": [
    {
     "data": {
      "text/plain": [
       "7"
      ]
     },
     "execution_count": 30,
     "metadata": {},
     "output_type": "execute_result"
    }
   ],
   "source": [
    "len(tup)"
   ]
  },
  {
   "cell_type": "code",
   "execution_count": 31,
   "id": "617644e1",
   "metadata": {},
   "outputs": [
    {
     "data": {
      "text/plain": [
       "10"
      ]
     },
     "execution_count": 31,
     "metadata": {},
     "output_type": "execute_result"
    }
   ],
   "source": [
    "min(tup)"
   ]
  },
  {
   "cell_type": "code",
   "execution_count": 32,
   "id": "7a5a6cdf",
   "metadata": {},
   "outputs": [
    {
     "data": {
      "text/plain": [
       "40"
      ]
     },
     "execution_count": 32,
     "metadata": {},
     "output_type": "execute_result"
    }
   ],
   "source": [
    "max(tup)"
   ]
  },
  {
   "cell_type": "code",
   "execution_count": 33,
   "id": "716a527e",
   "metadata": {},
   "outputs": [
    {
     "data": {
      "text/plain": [
       "175"
      ]
     },
     "execution_count": 33,
     "metadata": {},
     "output_type": "execute_result"
    }
   ],
   "source": [
    "sum(tup)"
   ]
  },
  {
   "cell_type": "code",
   "execution_count": 34,
   "id": "6021d5c1",
   "metadata": {},
   "outputs": [
    {
     "data": {
      "text/plain": [
       "[10, 15, 20, 25, 30, 35, 40]"
      ]
     },
     "execution_count": 34,
     "metadata": {},
     "output_type": "execute_result"
    }
   ],
   "source": [
    "lst=list(tup)\n",
    "lst"
   ]
  },
  {
   "cell_type": "code",
   "execution_count": 35,
   "id": "57d726aa",
   "metadata": {},
   "outputs": [],
   "source": [
    "lst.append(45)\n",
    "lst.remove(45)"
   ]
  },
  {
   "cell_type": "code",
   "execution_count": 36,
   "id": "9395551f",
   "metadata": {},
   "outputs": [
    {
     "data": {
      "text/plain": [
       "[10, 15, 20, 25, 30, 35, 40]"
      ]
     },
     "execution_count": 36,
     "metadata": {},
     "output_type": "execute_result"
    }
   ],
   "source": [
    "lst"
   ]
  },
  {
   "cell_type": "code",
   "execution_count": 37,
   "id": "9b7a6a9e",
   "metadata": {},
   "outputs": [
    {
     "name": "stdout",
     "output_type": "stream",
     "text": [
      "10\n",
      "15\n",
      "20\n",
      "25\n",
      "30\n",
      "35\n",
      "40\n"
     ]
    }
   ],
   "source": [
    "for i in lst:\n",
    "    print(i)"
   ]
  },
  {
   "cell_type": "code",
   "execution_count": 38,
   "id": "a01a6f00",
   "metadata": {},
   "outputs": [],
   "source": [
    "names=[\"Amit\",\"Rahul\",\"Joseph\",\"Christy\",\"Edwin\"]"
   ]
  },
  {
   "cell_type": "code",
   "execution_count": 39,
   "id": "683a9e4e",
   "metadata": {},
   "outputs": [
    {
     "name": "stdout",
     "output_type": "stream",
     "text": [
      "Hello Amit\n",
      "Hello Rahul\n",
      "Hello Joseph\n",
      "Hello Christy\n",
      "Hello Edwin\n"
     ]
    }
   ],
   "source": [
    "for name in names:\n",
    "    print(\"Hello\",name)"
   ]
  },
  {
   "cell_type": "code",
   "execution_count": 40,
   "id": "7b7cfcbb",
   "metadata": {},
   "outputs": [],
   "source": [
    "roll=[1,2,3,4,5]"
   ]
  },
  {
   "cell_type": "code",
   "execution_count": 41,
   "id": "1573099a",
   "metadata": {},
   "outputs": [
    {
     "name": "stdout",
     "output_type": "stream",
     "text": [
      "Hello Amit Your roll no. is:  1\n",
      "Hello Rahul Your roll no. is:  2\n",
      "Hello Joseph Your roll no. is:  3\n",
      "Hello Christy Your roll no. is:  4\n",
      "Hello Edwin Your roll no. is:  5\n"
     ]
    }
   ],
   "source": [
    "for (s,r) in zip(names,roll):\n",
    "    print(\"Hello\",s,\"Your roll no. is: \",r)"
   ]
  },
  {
   "cell_type": "code",
   "execution_count": 42,
   "id": "0a55e39e",
   "metadata": {},
   "outputs": [
    {
     "data": {
      "text/plain": [
       "[0, 1, 2, 3, 4, 5, 6, 7, 8, 9]"
      ]
     },
     "execution_count": 42,
     "metadata": {},
     "output_type": "execute_result"
    }
   ],
   "source": [
    "list(range(0,10))"
   ]
  },
  {
   "cell_type": "code",
   "execution_count": 43,
   "id": "b8a77f5e",
   "metadata": {},
   "outputs": [
    {
     "data": {
      "text/plain": [
       "[0, 2, 4, 6, 8]"
      ]
     },
     "execution_count": 43,
     "metadata": {},
     "output_type": "execute_result"
    }
   ],
   "source": [
    "list(range(0,10,2))"
   ]
  },
  {
   "cell_type": "code",
   "execution_count": 44,
   "id": "35be8d0c",
   "metadata": {},
   "outputs": [],
   "source": [
    "sales=[3243,4454,3434,3443]\n",
    "profit=[434,556,566,556]"
   ]
  },
  {
   "cell_type": "code",
   "execution_count": 45,
   "id": "860fefc9",
   "metadata": {
    "scrolled": true
   },
   "outputs": [
    {
     "name": "stdout",
     "output_type": "stream",
     "text": [
      "1\n",
      "2\n",
      "3\n",
      "4\n"
     ]
    }
   ],
   "source": [
    "i=1\n",
    "while i<5:\n",
    "    print(i)\n",
    "    i+=1"
   ]
  },
  {
   "cell_type": "code",
   "execution_count": 46,
   "id": "94b46c62",
   "metadata": {},
   "outputs": [
    {
     "name": "stdout",
     "output_type": "stream",
     "text": [
      "1\n",
      "2\n",
      "3\n",
      "4\n",
      "i is no longer less than 5\n"
     ]
    }
   ],
   "source": [
    "i=1\n",
    "while i<5:\n",
    "    print(i)\n",
    "    i+=1\n",
    "else:\n",
    "    print(\"i is no longer less than 5\")"
   ]
  },
  {
   "cell_type": "code",
   "execution_count": 47,
   "id": "2980f431",
   "metadata": {},
   "outputs": [
    {
     "name": "stdout",
     "output_type": "stream",
     "text": [
      "Enter the number: 1\n",
      "x is less than 10.\n"
     ]
    }
   ],
   "source": [
    "x=int(input(\"Enter the number: \"))\n",
    "\n",
    "if x>10:\n",
    "    print(\"x is greater than 10.\")\n",
    "elif x<10:\n",
    "    print(\"x is less than 10.\")\n",
    "else:\n",
    "    print(\"x is equal to 10.\")"
   ]
  },
  {
   "cell_type": "code",
   "execution_count": 48,
   "id": "6233c93a",
   "metadata": {},
   "outputs": [],
   "source": [
    "myfirstdict={\n",
    "    \"custid\":[1,2,3,4,5],\n",
    "    \"custname\":['Aji','Edwin','Christy','Melwin','Hari'],\n",
    "    \"region\":['S','N','N','N','E']\n",
    "}"
   ]
  },
  {
   "cell_type": "code",
   "execution_count": 49,
   "id": "58ea2439",
   "metadata": {},
   "outputs": [
    {
     "data": {
      "text/plain": [
       "{'custid': [1, 2, 3, 4, 5],\n",
       " 'custname': ['Aji', 'Edwin', 'Christy', 'Melwin', 'Hari'],\n",
       " 'region': ['S', 'N', 'N', 'N', 'E']}"
      ]
     },
     "execution_count": 49,
     "metadata": {},
     "output_type": "execute_result"
    }
   ],
   "source": [
    "myfirstdict"
   ]
  },
  {
   "cell_type": "code",
   "execution_count": 50,
   "id": "15ede76b",
   "metadata": {},
   "outputs": [],
   "source": [
    "myfirstdict['custname'][2]=\"Henry\""
   ]
  },
  {
   "cell_type": "code",
   "execution_count": 51,
   "id": "ef37e2ee",
   "metadata": {},
   "outputs": [],
   "source": [
    "# myfirstdict.pop(\"region\")\n",
    "# myfirstdict.popitem()\n"
   ]
  },
  {
   "cell_type": "code",
   "execution_count": 52,
   "id": "9d7d4528",
   "metadata": {},
   "outputs": [
    {
     "name": "stdout",
     "output_type": "stream",
     "text": [
      "dict_keys(['custid', 'custname', 'region'])\n"
     ]
    }
   ],
   "source": [
    "x=myfirstdict.keys()\n",
    "print(x)"
   ]
  },
  {
   "cell_type": "code",
   "execution_count": 53,
   "id": "21e4b3f7",
   "metadata": {},
   "outputs": [
    {
     "name": "stdout",
     "output_type": "stream",
     "text": [
      "{10: 'Madhav', 11: 'Ajay', 12: 'Pratik'}\n"
     ]
    }
   ],
   "source": [
    "mydict={10:\"Madhav\",11:\"Ajay\",12:\"Pratik\"}\n",
    "print(mydict)"
   ]
  },
  {
   "cell_type": "code",
   "execution_count": 54,
   "id": "742fc91b",
   "metadata": {},
   "outputs": [
    {
     "name": "stdout",
     "output_type": "stream",
     "text": [
      "dict_keys([10, 11, 12])\n"
     ]
    }
   ],
   "source": [
    "print(mydict.keys())"
   ]
  },
  {
   "cell_type": "code",
   "execution_count": 55,
   "id": "d7362e9e",
   "metadata": {},
   "outputs": [
    {
     "name": "stdout",
     "output_type": "stream",
     "text": [
      "dict_values(['Madhav', 'Ajay', 'Pratik'])\n"
     ]
    }
   ],
   "source": [
    "print(mydict.values())"
   ]
  },
  {
   "cell_type": "code",
   "execution_count": 56,
   "id": "be85cb50",
   "metadata": {},
   "outputs": [],
   "source": [
    "def printme( string ):\n",
    "    \"This prints a passed string into function\"\n",
    "    print(string)\n",
    "    return"
   ]
  },
  {
   "cell_type": "code",
   "execution_count": 57,
   "id": "8606c6da",
   "metadata": {},
   "outputs": [
    {
     "name": "stdout",
     "output_type": "stream",
     "text": [
      "This is the first call to the user defined funciton.\n",
      "Again second call to the same function.\n"
     ]
    }
   ],
   "source": [
    "printme(\"This is the first call to the user defined funciton.\")\n",
    "printme(\"Again second call to the same function.\")"
   ]
  },
  {
   "cell_type": "code",
   "execution_count": 58,
   "id": "ada1ee7a",
   "metadata": {},
   "outputs": [
    {
     "name": "stdout",
     "output_type": "stream",
     "text": [
      "Tejas\n"
     ]
    }
   ],
   "source": [
    "x=\"Tejas\"\n",
    "printme(x)"
   ]
  },
  {
   "cell_type": "code",
   "execution_count": 59,
   "id": "589266c3",
   "metadata": {},
   "outputs": [
    {
     "name": "stdout",
     "output_type": "stream",
     "text": [
      "Enter the First number:1\n",
      "Enter the Second number:2\n",
      "Enter the Third number:3\n",
      "3.0 is the largest.\n"
     ]
    }
   ],
   "source": [
    "a=float(input(\"Enter the First number:\"))\n",
    "b=float(input(\"Enter the Second number:\"))\n",
    "c=float(input(\"Enter the Third number:\"))\n",
    "if a>=b and a>=c:\n",
    "    print(a,\"is the largest.\")\n",
    "elif b>=a and b>=c:\n",
    "    print(b,\"is the largest.\")\n",
    "else:\n",
    "    print(c,\"is the largest.\")\n",
    "    "
   ]
  },
  {
   "cell_type": "code",
   "execution_count": 60,
   "id": "4d4e9d24",
   "metadata": {},
   "outputs": [
    {
     "name": "stdout",
     "output_type": "stream",
     "text": [
      "Enter the First number:1\n",
      "Enter the Second number:2\n",
      "Enter the Third number:3\n",
      "3.0 is the largest.\n"
     ]
    }
   ],
   "source": [
    "a=float(input(\"Enter the First number:\"))\n",
    "b=float(input(\"Enter the Second number:\"))\n",
    "c=float(input(\"Enter the Third number:\"))\n",
    "lst=[a,b,c]\n",
    "print(max(lst),\"is the largest.\")"
   ]
  },
  {
   "cell_type": "code",
   "execution_count": 61,
   "id": "c97ff4f7",
   "metadata": {},
   "outputs": [
    {
     "name": "stdout",
     "output_type": "stream",
     "text": [
      "Enter the First number:1\n",
      "Enter the Second number:2\n",
      "Enter the Third number:3\n",
      "3.0 is the largest.\n"
     ]
    }
   ],
   "source": [
    "def largest_of_3(a,b,c):\n",
    "    lst=[a,b,c]\n",
    "    print(max(lst),\"is the largest.\")"
   ]
  },
  {
   "cell_type": "code",
   "execution_count": 65,
   "id": "dde2deea",
   "metadata": {},
   "outputs": [
    {
     "name": "stdout",
     "output_type": "stream",
     "text": [
      "Enter the First number:1\n",
      "Enter the Second number:2\n",
      "Enter the Third number:3\n",
      "3.0 is the largest.\n"
     ]
    }
   ],
   "source": [
    "n1=float(input(\"Enter the First number:\"))\n",
    "n2=float(input(\"Enter the Second number:\"))\n",
    "n3=float(input(\"Enter the Third number:\"))\n",
    "largest_of_3(n1,n2,n3)"
   ]
  },
  {
   "cell_type": "code",
   "execution_count": 1,
   "id": "ebc3ee63",
   "metadata": {},
   "outputs": [
    {
     "data": {
      "image/png": "[encoded data removed]",
      "text/plain": [
       "<Figure size 640x480 with 1 Axes>"
      ]
     },
     "metadata": {},
     "output_type": "display_data"
    }
   ],
   "source": [
    "import matplotlib.pyplot as plt\n",
    "x_data=(1,2,3,4,5,6)\n",
    "y_data=(10,40,90,160,250,360)\n",
    "z_data=(1,8,27,64,125,36*6)\n",
    "plt.plot(x_data,y_data)\n",
    "plt.plot(x_data,z_data)\n",
    "plt.xlabel(\"X-axis Label\")\n",
    "plt.ylabel(\"Y-axis Label\")\n",
    "plt.title(\"Graph\")\n",
    "plt.legend([\"10 * x^2\",\"x^3\"])\n",
    "plt.show()\n"
   ]
  },
  {
   "cell_type": "code",
   "execution_count": 123,
   "id": "00bc8598",
   "metadata": {},
   "outputs": [
    {
     "data": {
      "image/png": "[encoded data removed]",
      "text/plain": [
       "<Figure size 640x480 with 1 Axes>"
      ]
     },
     "metadata": {},
     "output_type": "display_data"
    }
   ],
   "source": [
    "categories=[\"Category A\",\"Category B\",\"Category C\",\"Category D\"]\n",
    "values=[2.5,3.0,3.5,1.8]\n",
    "plt.bar(categories,values,color=[\"red\",\"blue\",\"green\",\"yellow\"])\n",
    "plt.xlabel(\"Categories\")\n",
    "plt.ylabel(\"Values\")\n",
    "plt.title(\"Example\")\n",
    "\n",
    "plt.show()"
   ]
  },
  {
   "cell_type": "code",
   "execution_count": 179,
   "id": "87af0069",
   "metadata": {},
   "outputs": [
    {
     "data": {
      "image/png": "[encoded data removed]",
      "text/plain": [
       "<Figure size 640x480 with 1 Axes>"
      ]
     },
     "metadata": {},
     "output_type": "display_data"
    }
   ],
   "source": [
    "categories=[\"Category A\",\"Category B\",\"Category C\",\"Category D\"]\n",
    "values=[2,8,0,0]\n",
    "plt.pie(values,labels=categories,autopct=\"%1.2f%%\",startangle=-35,colors=[\"white\",\"orange\",\"green\",\"yellow\"])\n",
    "plt.title(\"Example\")\n",
    "plt.show()"
   ]
  }
 ],
 "metadata": {
  "kernelspec": {
   "display_name": "Python 3 (ipykernel)",
   "language": "python",
   "name": "python3"
  },
  "language_info": {
   "codemirror_mode": {
    "name": "ipython",
    "version": 3
   },
   "file_extension": ".py",
   "mimetype": "text/x-python",
   "name": "python",
   "nbconvert_exporter": "python",
   "pygments_lexer": "ipython3",
   "version": "3.10.13"
  }
 },
 "nbformat": 4,
 "nbformat_minor": 5
}
