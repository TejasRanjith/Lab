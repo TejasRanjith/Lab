{
 "cells": [
  {
   "cell_type": "markdown",
   "id": "cc99dc76",
   "metadata": {},
   "source": [
    "# 1. Matrix Operations"
   ]
  },
  {
   "cell_type": "markdown",
   "id": "2b5acde9",
   "metadata": {},
   "source": [
    "Aim : To perform Matrix operations - Addition, Multiplication, and Transpose"
   ]
  },
  {
   "cell_type": "code",
   "execution_count": 28,
   "id": "07e7b7bd",
   "metadata": {},
   "outputs": [
    {
     "name": "stdout",
     "output_type": "stream",
     "text": [
      "Enter the no. of Rows:3\n",
      "Enter the no. of Columns:3\n",
      "Enter the value of position 1,1: 1\n",
      "Enter the value of position 1,2: 2\n",
      "Enter the value of position 1,3: 3\n",
      "Enter the value of position 2,1: 4\n",
      "Enter the value of position 2,2: 5\n",
      "Enter the value of position 2,3: 6\n",
      "Enter the value of position 3,1: 7\n",
      "Enter the value of position 3,2: 8\n",
      "Enter the value of position 3,3: 9\n",
      "1,2,3,\n",
      "4,5,6,\n",
      "7,8,9,\n",
      "[1,4,7,]\n",
      "[2,5,8,]\n",
      "[3,6,9,]\n"
     ]
    }
   ],
   "source": [
    "matrix = []\n",
    "\n",
    "m = int(input(\"Enter the no. of Rows:\"))\n",
    "n = int(input(\"Enter the no. of Columns:\"))\n",
    "\n",
    "for i in range(m):\n",
    "    row = []\n",
    "    for j in range(n):\n",
    "        row.append(int(input(f\"Enter the value of position {i+1},{j+1}: \")))\n",
    "    matrix.append(row)\n",
    "\n",
    "for i in range(n):\n",
    "    print(\"[\",end=\"\")\n",
    "    for j in range(m):\n",
    "        print(matrix[j][i],end=\",\")\n",
    "    print(\"]\\n\",end=\"\")"
   ]
  },
  {
   "cell_type": "code",
   "execution_count": 5,
   "id": "64e45a04",
   "metadata": {},
   "outputs": [
    {
     "name": "stdout",
     "output_type": "stream",
     "text": [
      "Matrix 1:\n",
      "Enter the no. of Rows:3\n",
      "Enter the no. of Columns:3\n",
      "Enter the value of position 1,1: 1\n",
      "Enter the value of position 1,2: 2\n",
      "Enter the value of position 1,3: 3\n",
      "Enter the value of position 2,1: 4\n",
      "Enter the value of position 2,2: 5\n",
      "Enter the value of position 2,3: 6\n",
      "Enter the value of position 3,1: 7\n",
      "Enter the value of position 3,2: 8\n",
      "Enter the value of position 3,3: 9\n",
      "Matrix 2:\n",
      "Enter the no. of Rows:3\n",
      "Enter the no. of Columns:3\n",
      "Enter the value of position 1,1: 1\n",
      "Enter the value of position 1,2: 2\n",
      "Enter the value of position 1,3: 3\n",
      "Enter the value of position 2,1: 4\n",
      "Enter the value of position 2,2: 5\n",
      "Enter the value of position 2,3: 6\n",
      "Enter the value of position 3,1: 7\n",
      "Enter the value of position 3,2: 8\n",
      "Enter the value of position 3,3: 9\n",
      "[2, 4, 6]\n",
      "[8, 10, 12]\n",
      "[14, 16, 18]\n"
     ]
    }
   ],
   "source": [
    "result = []\n",
    "\n",
    "def Matrix(n):\n",
    "    matrix=[]\n",
    "    print(f\"Matrix {n}:\")\n",
    "    m = int(input(\"Enter the no. of Rows:\"))\n",
    "    n = int(input(\"Enter the no. of Columns:\"))\n",
    "\n",
    "    for i in range(m):\n",
    "        row = []\n",
    "        for j in range(n):\n",
    "            row.append(int(input(f\"Enter the value of position {i+1},{j+1}: \")))\n",
    "        matrix.append(row)\n",
    "    return matrix,n,m\n",
    "\n",
    "mat1,n1,m1=Matrix(1)\n",
    "mat2,n2,m2=Matrix(2)\n",
    "\n",
    "if n1 == n2 and m1 == m2:\n",
    "    for i in range(m1):\n",
    "        row=[]\n",
    "        for j in range(n1):\n",
    "            row.append(mat1[i][j]+mat2[i][j])\n",
    "        result.append(row)\n",
    "    for elem in result:\n",
    "        print(elem)\n",
    "else:\n",
    "    print(\"Addition not possible because no of columns of first matrix\")"
   ]
  },
  {
   "cell_type": "code",
   "execution_count": 1,
   "id": "9b1ceedb",
   "metadata": {},
   "outputs": [
    {
     "name": "stdout",
     "output_type": "stream",
     "text": [
      "Matrix 1:\n",
      "Enter the no. of Rows:a\n"
     ]
    },
    {
     "ename": "ValueError",
     "evalue": "invalid literal for int() with base 10: 'a'",
     "output_type": "error",
     "traceback": [
      "\u001b[0;31m---------------------------------------------------------------------------\u001b[0m",
      "\u001b[0;31mValueError\u001b[0m                                Traceback (most recent call last)",
      "Cell \u001b[0;32mIn [1], line 15\u001b[0m\n\u001b[1;32m     12\u001b[0m         matrix\u001b[38;5;241m.\u001b[39mappend(row)\n\u001b[1;32m     13\u001b[0m     \u001b[38;5;28;01mreturn\u001b[39;00m matrix,n,m\n\u001b[0;32m---> 15\u001b[0m mat1,n1,m1 \u001b[38;5;241m=\u001b[39m Matrix(\u001b[38;5;241m1\u001b[39m)\n\u001b[1;32m     16\u001b[0m mat2,n2,m2 \u001b[38;5;241m=\u001b[39m Matrix(\u001b[38;5;241m2\u001b[39m)\n\u001b[1;32m     18\u001b[0m \u001b[38;5;28;01mif\u001b[39;00m n1 \u001b[38;5;241m==\u001b[39m m2:\n",
      "Cell \u001b[0;32mIn [1], line 5\u001b[0m, in \u001b[0;36mMatrix\u001b[0;34m(n)\u001b[0m\n\u001b[1;32m      3\u001b[0m matrix\u001b[38;5;241m=\u001b[39m[]\n\u001b[1;32m      4\u001b[0m \u001b[38;5;28mprint\u001b[39m(\u001b[38;5;124mf\u001b[39m\u001b[38;5;124m\"\u001b[39m\u001b[38;5;124mMatrix \u001b[39m\u001b[38;5;132;01m{\u001b[39;00mn\u001b[38;5;132;01m}\u001b[39;00m\u001b[38;5;124m:\u001b[39m\u001b[38;5;124m\"\u001b[39m)\n\u001b[0;32m----> 5\u001b[0m m \u001b[38;5;241m=\u001b[39m \u001b[38;5;28;43mint\u001b[39;49m\u001b[43m(\u001b[49m\u001b[38;5;28;43minput\u001b[39;49m\u001b[43m(\u001b[49m\u001b[38;5;124;43m\"\u001b[39;49m\u001b[38;5;124;43mEnter the no. of Rows:\u001b[39;49m\u001b[38;5;124;43m\"\u001b[39;49m\u001b[43m)\u001b[49m\u001b[43m)\u001b[49m\n\u001b[1;32m      6\u001b[0m n \u001b[38;5;241m=\u001b[39m \u001b[38;5;28mint\u001b[39m(\u001b[38;5;28minput\u001b[39m(\u001b[38;5;124m\"\u001b[39m\u001b[38;5;124mEnter the no. of Columns:\u001b[39m\u001b[38;5;124m\"\u001b[39m))\n\u001b[1;32m      8\u001b[0m \u001b[38;5;28;01mfor\u001b[39;00m i \u001b[38;5;129;01min\u001b[39;00m \u001b[38;5;28mrange\u001b[39m(m):\n",
      "\u001b[0;31mValueError\u001b[0m: invalid literal for int() with base 10: 'a'"
     ]
    }
   ],
   "source": [
    "result=[]\n",
    "def Matrix(n):\n",
    "    matrix=[]\n",
    "    print(f\"Matrix {n}:\")\n",
    "    m = int(input(\"Enter the no. of Rows:\"))\n",
    "    n = int(input(\"Enter the no. of Columns:\"))\n",
    "\n",
    "    for i in range(m):\n",
    "        row = []\n",
    "        for j in range(n):\n",
    "            row.append(int(input(f\"Enter the value of position {i+1},{j+1}: \")))\n",
    "        matrix.append(row)\n",
    "    return matrix,n,m\n",
    "\n",
    "mat1,n1,m1 = Matrix(1)\n",
    "mat2,n2,m2 = Matrix(2)\n",
    "\n",
    "if n1 == m2:\n",
    "    for i in range(m1):\n",
    "        row=[]\n",
    "        for j in range(n1):\n",
    "            s=0\n",
    "            for k in range(n2):\n",
    "                s+=mat1[i][k]*mat2[k][j]\n",
    "            row.append(s)\n",
    "        result.append(row)\n",
    "    for elem in result:\n",
    "        print(elem)\n",
    "else:\n",
    "    print(\"Multiplication not possible, because no of columns of first matrix is not equal to the number of rows of second matrix\")"
   ]
  },
  {
   "cell_type": "markdown",
   "id": "3587290a",
   "metadata": {},
   "source": [
    "# 2. Mean, Median, Mode"
   ]
  },
  {
   "cell_type": "code",
   "execution_count": 48,
   "id": "e726db40",
   "metadata": {
    "slideshow": {
     "slide_type": "-"
    }
   },
   "outputs": [
    {
     "name": "stdout",
     "output_type": "stream",
     "text": [
      "Enter the elements accordingly : 1 2 3 4 5\n",
      "Mean of the list:  3.0\n",
      "Median of the list:  3\n",
      "Mode of the list:  0\n",
      "Variance of the list:  2.5\n",
      "Standard Deviation of list:  1.5811388300841898\n"
     ]
    }
   ],
   "source": [
    "def mean(l):\n",
    "    s=0\n",
    "    for elem in l:\n",
    "        s+=elem\n",
    "    return s/len(l)\n",
    "\n",
    "def sorter(l):\n",
    "    for i in range(len(l)-1):\n",
    "        for j in range(len(l)-1):\n",
    "            if l[j] > l[j+1]:\n",
    "                temp = l[j]\n",
    "                l[j] = l[j+1]\n",
    "                l[j+1] = temp\n",
    "    return l\n",
    "\n",
    "def median(l):\n",
    "    l,n = sorter(l),len(l)-1\n",
    "    if n%2 == 0:\n",
    "        return l[n//2]\n",
    "    else:\n",
    "        return (l[n//2] + l[((n+2)//2)])/2\n",
    "\n",
    "def mode(l):\n",
    "    d,result=dict(),[]\n",
    "    for elem in l:\n",
    "        if elem in d:\n",
    "            d[elem]+=1\n",
    "        else:\n",
    "            d[elem]=1\n",
    "    for key in d:\n",
    "        if d[key] == max(d.values()):\n",
    "            if max(d.values()) != 1:\n",
    "                result.append(key)\n",
    "            else:\n",
    "                result = [0]\n",
    "    return result\n",
    "\n",
    "def variance(l):\n",
    "    xbar = mean(l)\n",
    "    newl = [(x-xbar)**2 for x in l]\n",
    "    return sum(newl)/(len(l)-1)\n",
    "\n",
    "l = [int(x) for x in input(\"Enter the elements accordingly : \").split()]\n",
    "print(\"Mean of the list: \",mean(l))\n",
    "print(\"Median of the list: \",median(l))\n",
    "print(\"Mode of the list: \",*mode(l))\n",
    "print(\"Variance of the list: \",variance(l))\n",
    "print(\"Standard Deviation of list: \",variance(l)**(1/2))"
   ]
  },
  {
   "cell_type": "code",
   "execution_count": 50,
   "id": "d9c676fa",
   "metadata": {},
   "outputs": [
    {
     "name": "stdout",
     "output_type": "stream",
     "text": [
      "Enter the password to be validated : hi\n",
      "Does not contain 8 or more characters...\n",
      "Does not contain uppercase letters...\n",
      "Does not contain digits...\n",
      "Does not contain special characters...\n",
      "Valid Password\n"
     ]
    }
   ],
   "source": [
    "import re\n",
    "\n",
    "def validator(password):\n",
    "    errors = []\n",
    "    if len(password)<=8:\n",
    "        errors.append(\"Does not contain 8 or more characters...\")\n",
    "    if not re.search(\"[A-Z]\",password):\n",
    "        errors.append(\"Does not contain uppercase letters...\")\n",
    "    if not re.search(\"[a-z]\",password):\n",
    "        errors.append(\"Does not contain lowercase letters...\")\n",
    "    if not re.search(\"[0-9]\",password):\n",
    "        errors.append(\"Does not contain digits...\")\n",
    "    if not re.search(\"[!@#$%^&*]\",password):\n",
    "        errors.append(\"Does not contain special characters...\")\n",
    "    return errors\n",
    "\n",
    "for error in validator(input(\"Enter the password to be validated : \")):\n",
    "    print(error)\n",
    "else:\n",
    "    print(\"Valid Password\")"
   ]
  },
  {
   "cell_type": "code",
   "execution_count": 47,
   "id": "55e64b39",
   "metadata": {},
   "outputs": [
    {
     "data": {
      "text/plain": [
       "3.0"
      ]
     },
     "execution_count": 47,
     "metadata": {},
     "output_type": "execute_result"
    }
   ],
   "source": [
    "9**(1/2)"
   ]
  },
  {
   "cell_type": "markdown",
   "id": "8242057f",
   "metadata": {},
   "source": [
    "1. atleast 8 characters\n",
    "2. contains both uppercase and lowecase\n",
    "3. includes atleast one numeric digit\n",
    "4. atleast one special char"
   ]
  }
 ],
 "metadata": {
  "kernelspec": {
   "display_name": "Python 3 (ipykernel)",
   "language": "python",
   "name": "python3"
  },
  "language_info": {
   "codemirror_mode": {
    "name": "ipython",
    "version": 3
   },
   "file_extension": ".py",
   "mimetype": "text/x-python",
   "name": "python",
   "nbconvert_exporter": "python",
   "pygments_lexer": "ipython3",
   "version": "3.8.10"
  }
 },
 "nbformat": 4,
 "nbformat_minor": 5
}
