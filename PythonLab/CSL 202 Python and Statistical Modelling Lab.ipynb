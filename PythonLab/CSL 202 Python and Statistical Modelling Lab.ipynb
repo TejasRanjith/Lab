{
 "cells": [
  {
   "cell_type": "markdown",
   "id": "3f440e2c",
   "metadata": {},
   "source": [
    "# DATA TYPES IN PYTHON"
   ]
  },
  {
   "cell_type": "markdown",
   "id": "1466b7b4",
   "metadata": {},
   "source": [
    "1. FLOAT\n",
    "2. INTEGER\n",
    "3. STRING\n",
    "4. BOOLEAN"
   ]
  },
  {
   "cell_type": "code",
   "execution_count": 3,
   "id": "65d867ec",
   "metadata": {},
   "outputs": [],
   "source": [
    "sales=150.5"
   ]
  },
  {
   "cell_type": "code",
   "execution_count": 4,
   "id": "3d4d3fd1",
   "metadata": {},
   "outputs": [
    {
     "data": {
      "text/plain": [
       "float"
      ]
     },
     "execution_count": 4,
     "metadata": {},
     "output_type": "execute_result"
    }
   ],
   "source": [
    "type(sales)"
   ]
  },
  {
   "cell_type": "code",
   "execution_count": 5,
   "id": "31956429",
   "metadata": {},
   "outputs": [],
   "source": [
    "quantity=19"
   ]
  },
  {
   "cell_type": "code",
   "execution_count": 6,
   "id": "be134d5d",
   "metadata": {},
   "outputs": [
    {
     "data": {
      "text/plain": [
       "int"
      ]
     },
     "execution_count": 6,
     "metadata": {},
     "output_type": "execute_result"
    }
   ],
   "source": [
    "type(quantity)"
   ]
  },
  {
   "cell_type": "code",
   "execution_count": 7,
   "id": "44996f20",
   "metadata": {},
   "outputs": [
    {
     "data": {
      "text/plain": [
       "int"
      ]
     },
     "execution_count": 7,
     "metadata": {},
     "output_type": "execute_result"
    }
   ],
   "source": [
    "a=50\n",
    "type(a)"
   ]
  },
  {
   "cell_type": "code",
   "execution_count": 8,
   "id": "73c82f25",
   "metadata": {},
   "outputs": [
    {
     "data": {
      "text/plain": [
       "complex"
      ]
     },
     "execution_count": 8,
     "metadata": {},
     "output_type": "execute_result"
    }
   ],
   "source": [
    "comp=1+2j\n",
    "type(comp)"
   ]
  },
  {
   "cell_type": "code",
   "execution_count": 9,
   "id": "8c9a1877",
   "metadata": {},
   "outputs": [
    {
     "data": {
      "text/plain": [
       "False"
      ]
     },
     "execution_count": 9,
     "metadata": {},
     "output_type": "execute_result"
    }
   ],
   "source": [
    "a=30\n",
    "b=a<20\n",
    "b"
   ]
  },
  {
   "cell_type": "code",
   "execution_count": 10,
   "id": "a1cbf4f9",
   "metadata": {},
   "outputs": [
    {
     "data": {
      "text/plain": [
       "bool"
      ]
     },
     "execution_count": 10,
     "metadata": {},
     "output_type": "execute_result"
    }
   ],
   "source": [
    "type(b)"
   ]
  },
  {
   "cell_type": "markdown",
   "id": "921d1e01",
   "metadata": {},
   "source": [
    "# PYTHON COLLECTION DATATYPES"
   ]
  },
  {
   "cell_type": "markdown",
   "id": "4bb18603",
   "metadata": {},
   "source": [
    "1. Lists\n",
    "2. Tuples\n",
    "3. Dictionaries\n",
    "4. Sets"
   ]
  },
  {
   "cell_type": "code",
   "execution_count": 11,
   "id": "37ce0ad8",
   "metadata": {},
   "outputs": [],
   "source": [
    "agegroup=[15,20,25,30,35,40,45,50,55,60]"
   ]
  },
  {
   "cell_type": "code",
   "execution_count": 12,
   "id": "d7f43d86",
   "metadata": {},
   "outputs": [
    {
     "data": {
      "text/plain": [
       "[15, 20, 25, 30, 35, 40, 45, 50, 55, 60]"
      ]
     },
     "execution_count": 12,
     "metadata": {},
     "output_type": "execute_result"
    }
   ],
   "source": [
    "agegroup"
   ]
  },
  {
   "cell_type": "code",
   "execution_count": 13,
   "id": "7d66f91e",
   "metadata": {},
   "outputs": [
    {
     "data": {
      "text/plain": [
       "[60, 50, 40]"
      ]
     },
     "execution_count": 13,
     "metadata": {},
     "output_type": "execute_result"
    }
   ],
   "source": [
    "agegroup[-1:-6:-2]"
   ]
  },
  {
   "cell_type": "code",
   "execution_count": 14,
   "id": "096956fc",
   "metadata": {},
   "outputs": [
    {
     "data": {
      "text/plain": [
       "10"
      ]
     },
     "execution_count": 14,
     "metadata": {},
     "output_type": "execute_result"
    }
   ],
   "source": [
    "len(agegroup)"
   ]
  },
  {
   "cell_type": "code",
   "execution_count": 15,
   "id": "2e2be5bf",
   "metadata": {},
   "outputs": [
    {
     "data": {
      "text/plain": [
       "60"
      ]
     },
     "execution_count": 15,
     "metadata": {},
     "output_type": "execute_result"
    }
   ],
   "source": [
    "max(agegroup)"
   ]
  },
  {
   "cell_type": "code",
   "execution_count": 16,
   "id": "5e9f8601",
   "metadata": {},
   "outputs": [
    {
     "data": {
      "text/plain": [
       "15"
      ]
     },
     "execution_count": 16,
     "metadata": {},
     "output_type": "execute_result"
    }
   ],
   "source": [
    "min(agegroup)"
   ]
  },
  {
   "cell_type": "code",
   "execution_count": 17,
   "id": "b2231c6f",
   "metadata": {},
   "outputs": [
    {
     "data": {
      "text/plain": [
       "375"
      ]
     },
     "execution_count": 17,
     "metadata": {},
     "output_type": "execute_result"
    }
   ],
   "source": [
    "sum(agegroup)"
   ]
  },
  {
   "cell_type": "code",
   "execution_count": 18,
   "id": "d062b634",
   "metadata": {},
   "outputs": [],
   "source": [
    "agegroup.append(65)"
   ]
  },
  {
   "cell_type": "code",
   "execution_count": 19,
   "id": "c64688ad",
   "metadata": {},
   "outputs": [],
   "source": [
    "agegroup.extend([70,75,80,85])"
   ]
  },
  {
   "cell_type": "code",
   "execution_count": 20,
   "id": "0bb15da9",
   "metadata": {},
   "outputs": [
    {
     "data": {
      "text/plain": [
       "[15, 20, 25, 30, 35, 40, 45, 50, 55, 60, 65, 70, 75, 80, 85]"
      ]
     },
     "execution_count": 20,
     "metadata": {},
     "output_type": "execute_result"
    }
   ],
   "source": [
    "agegroup"
   ]
  },
  {
   "cell_type": "code",
   "execution_count": 21,
   "id": "442c7f59",
   "metadata": {},
   "outputs": [
    {
     "data": {
      "text/plain": [
       "[15, 20, 25, 30, 35, 40, 45, 50, 55, 60, 65, 70, 75, 80, 85]"
      ]
     },
     "execution_count": 21,
     "metadata": {},
     "output_type": "execute_result"
    }
   ],
   "source": [
    "agegroup"
   ]
  },
  {
   "cell_type": "code",
   "execution_count": 22,
   "id": "5a5aab20",
   "metadata": {},
   "outputs": [],
   "source": [
    "agegroup.append(80)"
   ]
  },
  {
   "cell_type": "code",
   "execution_count": 23,
   "id": "c2fcc6c6",
   "metadata": {},
   "outputs": [],
   "source": [
    "agegroup.insert(0,10)"
   ]
  },
  {
   "cell_type": "code",
   "execution_count": 24,
   "id": "3745322b",
   "metadata": {},
   "outputs": [
    {
     "data": {
      "text/plain": [
       "[10, 15, 20, 25, 30, 35, 40, 45, 50, 55, 60, 65, 70, 75, 80, 85, 80]"
      ]
     },
     "execution_count": 24,
     "metadata": {},
     "output_type": "execute_result"
    }
   ],
   "source": [
    "agegroup"
   ]
  },
  {
   "cell_type": "code",
   "execution_count": 25,
   "id": "7477d8c4",
   "metadata": {},
   "outputs": [],
   "source": [
    "newgrp=agegroup.copy()"
   ]
  },
  {
   "cell_type": "code",
   "execution_count": 26,
   "id": "1f16318e",
   "metadata": {},
   "outputs": [
    {
     "data": {
      "text/plain": [
       "[10, 15, 20, 25, 30, 35, 40, 45, 50, 55, 60, 65, 70, 75, 80, 85, 80]"
      ]
     },
     "execution_count": 26,
     "metadata": {},
     "output_type": "execute_result"
    }
   ],
   "source": [
    "newgrp"
   ]
  },
  {
   "cell_type": "code",
   "execution_count": 27,
   "id": "3ff7fa5c",
   "metadata": {},
   "outputs": [],
   "source": [
    "newgrp.clear()"
   ]
  },
  {
   "cell_type": "code",
   "execution_count": 28,
   "id": "79ec7961",
   "metadata": {},
   "outputs": [],
   "source": [
    "agegroup.reverse()"
   ]
  },
  {
   "cell_type": "code",
   "execution_count": 29,
   "id": "c28183c4",
   "metadata": {},
   "outputs": [],
   "source": [
    "agegroup.sort()"
   ]
  },
  {
   "cell_type": "code",
   "execution_count": 30,
   "id": "761de470",
   "metadata": {},
   "outputs": [
    {
     "data": {
      "text/plain": [
       "[10, 15, 20, 25, 30, 35, 40, 45, 50, 55, 60, 65, 70, 75, 80, 80, 85]"
      ]
     },
     "execution_count": 30,
     "metadata": {},
     "output_type": "execute_result"
    }
   ],
   "source": [
    "agegroup"
   ]
  },
  {
   "cell_type": "markdown",
   "id": "ff96a542",
   "metadata": {},
   "source": [
    "# TUPLE"
   ]
  },
  {
   "cell_type": "code",
   "execution_count": 31,
   "id": "cfa220fc",
   "metadata": {},
   "outputs": [
    {
     "data": {
      "text/plain": [
       "(10, 15, 20, 25, 30, 35, 40)"
      ]
     },
     "execution_count": 31,
     "metadata": {},
     "output_type": "execute_result"
    }
   ],
   "source": [
    "tup=(10, 15, 20, 25, 30, 35, 40)\n",
    "tup"
   ]
  },
  {
   "cell_type": "code",
   "execution_count": 32,
   "id": "ef97f362",
   "metadata": {},
   "outputs": [
    {
     "data": {
      "text/plain": [
       "7"
      ]
     },
     "execution_count": 32,
     "metadata": {},
     "output_type": "execute_result"
    }
   ],
   "source": [
    "len(tup)"
   ]
  },
  {
   "cell_type": "code",
   "execution_count": 33,
   "id": "617644e1",
   "metadata": {},
   "outputs": [
    {
     "data": {
      "text/plain": [
       "10"
      ]
     },
     "execution_count": 33,
     "metadata": {},
     "output_type": "execute_result"
    }
   ],
   "source": [
    "min(tup)"
   ]
  },
  {
   "cell_type": "code",
   "execution_count": 34,
   "id": "7a5a6cdf",
   "metadata": {},
   "outputs": [
    {
     "data": {
      "text/plain": [
       "40"
      ]
     },
     "execution_count": 34,
     "metadata": {},
     "output_type": "execute_result"
    }
   ],
   "source": [
    "max(tup)"
   ]
  },
  {
   "cell_type": "code",
   "execution_count": 35,
   "id": "716a527e",
   "metadata": {},
   "outputs": [
    {
     "data": {
      "text/plain": [
       "175"
      ]
     },
     "execution_count": 35,
     "metadata": {},
     "output_type": "execute_result"
    }
   ],
   "source": [
    "sum(tup)"
   ]
  },
  {
   "cell_type": "code",
   "execution_count": 36,
   "id": "6021d5c1",
   "metadata": {},
   "outputs": [
    {
     "data": {
      "text/plain": [
       "[10, 15, 20, 25, 30, 35, 40]"
      ]
     },
     "execution_count": 36,
     "metadata": {},
     "output_type": "execute_result"
    }
   ],
   "source": [
    "lst=list(tup)\n",
    "lst"
   ]
  },
  {
   "cell_type": "code",
   "execution_count": 37,
   "id": "57d726aa",
   "metadata": {},
   "outputs": [
    {
     "data": {
      "text/plain": [
       "[10, 15, 20, 25, 30, 35, 40]"
      ]
     },
     "execution_count": 37,
     "metadata": {},
     "output_type": "execute_result"
    }
   ],
   "source": [
    "lst"
   ]
  },
  {
   "cell_type": "code",
   "execution_count": 38,
   "id": "9395551f",
   "metadata": {},
   "outputs": [
    {
     "data": {
      "text/plain": [
       "[10, 15, 20, 25, 30, 35, 40]"
      ]
     },
     "execution_count": 38,
     "metadata": {},
     "output_type": "execute_result"
    }
   ],
   "source": [
    "lst"
   ]
  }
 ],
 "metadata": {
  "kernelspec": {
   "display_name": "Python 3 (ipykernel)",
   "language": "python",
   "name": "python3"
  },
  "language_info": {
   "codemirror_mode": {
    "name": "ipython",
    "version": 3
   },
   "file_extension": ".py",
   "mimetype": "text/x-python",
   "name": "python",
   "nbconvert_exporter": "python",
   "pygments_lexer": "ipython3",
   "version": "3.10.13"
  }
 },
 "nbformat": 4,
 "nbformat_minor": 5
}
