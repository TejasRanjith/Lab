{
 "cells": [
  {
   "cell_type": "markdown",
   "id": "cc99dc76",
   "metadata": {},
   "source": [
    "# 1. Matrix Operations"
   ]
  },
  {
   "cell_type": "markdown",
   "id": "2b5acde9",
   "metadata": {},
   "source": [
    "Aim : To perform Matrix operations - Addition, Multiplication, and Transpose"
   ]
  },
  {
   "cell_type": "code",
   "execution_count": 28,
   "id": "07e7b7bd",
   "metadata": {},
   "outputs": [
    {
     "name": "stdout",
     "output_type": "stream",
     "text": [
      "Enter the no. of Rows:3\n",
      "Enter the no. of Columns:3\n",
      "Enter the value of position 1,1: 1\n",
      "Enter the value of position 1,2: 2\n",
      "Enter the value of position 1,3: 3\n",
      "Enter the value of position 2,1: 4\n",
      "Enter the value of position 2,2: 5\n",
      "Enter the value of position 2,3: 6\n",
      "Enter the value of position 3,1: 7\n",
      "Enter the value of position 3,2: 8\n",
      "Enter the value of position 3,3: 9\n",
      "1,2,3,\n",
      "4,5,6,\n",
      "7,8,9,\n",
      "[1,4,7,]\n",
      "[2,5,8,]\n",
      "[3,6,9,]\n"
     ]
    }
   ],
   "source": [
    "matrix = []\n",
    "\n",
    "m = int(input(\"Enter the no. of Rows:\"))\n",
    "n = int(input(\"Enter the no. of Columns:\"))\n",
    "\n",
    "for i in range(m):\n",
    "    row = []\n",
    "    for j in range(n):\n",
    "        row.append(int(input(f\"Enter the value of position {i+1},{j+1}: \")))\n",
    "    matrix.append(row)\n",
    "\n",
    "for i in range(n):\n",
    "    print(\"[\",end=\"\")\n",
    "    for j in range(m):\n",
    "        print(matrix[j][i],end=\",\")\n",
    "    print(\"]\\n\",end=\"\")"
   ]
  },
  {
   "cell_type": "code",
   "execution_count": 5,
   "id": "64e45a04",
   "metadata": {},
   "outputs": [
    {
     "name": "stdout",
     "output_type": "stream",
     "text": [
      "Matrix 1:\n",
      "Enter the no. of Rows:3\n",
      "Enter the no. of Columns:3\n",
      "Enter the value of position 1,1: 1\n",
      "Enter the value of position 1,2: 2\n",
      "Enter the value of position 1,3: 3\n",
      "Enter the value of position 2,1: 4\n",
      "Enter the value of position 2,2: 5\n",
      "Enter the value of position 2,3: 6\n",
      "Enter the value of position 3,1: 7\n",
      "Enter the value of position 3,2: 8\n",
      "Enter the value of position 3,3: 9\n",
      "Matrix 2:\n",
      "Enter the no. of Rows:3\n",
      "Enter the no. of Columns:3\n",
      "Enter the value of position 1,1: 1\n",
      "Enter the value of position 1,2: 2\n",
      "Enter the value of position 1,3: 3\n",
      "Enter the value of position 2,1: 4\n",
      "Enter the value of position 2,2: 5\n",
      "Enter the value of position 2,3: 6\n",
      "Enter the value of position 3,1: 7\n",
      "Enter the value of position 3,2: 8\n",
      "Enter the value of position 3,3: 9\n",
      "[2, 4, 6]\n",
      "[8, 10, 12]\n",
      "[14, 16, 18]\n"
     ]
    }
   ],
   "source": [
    "result = []\n",
    "\n",
    "def Matrix(n):\n",
    "    matrix=[]\n",
    "    print(f\"Matrix {n}:\")\n",
    "    m = int(input(\"Enter the no. of Rows:\"))\n",
    "    n = int(input(\"Enter the no. of Columns:\"))\n",
    "\n",
    "    for i in range(m):\n",
    "        row = []\n",
    "        for j in range(n):\n",
    "            row.append(int(input(f\"Enter the value of position {i+1},{j+1}: \")))\n",
    "        matrix.append(row)\n",
    "    return matrix,n,m\n",
    "\n",
    "mat1,n1,m1=Matrix(1)\n",
    "mat2,n2,m2=Matrix(2)\n",
    "\n",
    "if n1 == n2 and m1 == m2:\n",
    "    for i in range(m1):\n",
    "        row=[]\n",
    "        for j in range(n1):\n",
    "            row.append(mat1[i][j]+mat2[i][j])\n",
    "        result.append(row)\n",
    "    for elem in result:\n",
    "        print(elem)\n",
    "else:\n",
    "    print(\"Addition not possible because no of columns of first matrix\")"
   ]
  },
  {
   "cell_type": "code",
   "execution_count": 6,
   "id": "9b1ceedb",
   "metadata": {},
   "outputs": [
    {
     "name": "stdout",
     "output_type": "stream",
     "text": [
      "Matrix 1:\n",
      "Enter the no. of Rows:2\n",
      "Enter the no. of Columns:2\n",
      "Enter the value of position 1,1: 1\n",
      "Enter the value of position 1,2: 2\n",
      "Enter the value of position 2,1: 3\n",
      "Enter the value of position 2,2: 4\n",
      "Matrix 2:\n",
      "Enter the no. of Rows:2\n",
      "Enter the no. of Columns:2\n",
      "Enter the value of position 1,1: 1\n",
      "Enter the value of position 1,2: 2\n",
      "Enter the value of position 2,1: 3\n",
      "Enter the value of position 2,2: 4\n",
      "[7, 10]\n",
      "[15, 22]\n"
     ]
    }
   ],
   "source": [
    "result=[]\n",
    "def Matrix(n):\n",
    "    matrix=[]\n",
    "    print(f\"Matrix {n}:\")\n",
    "    m = int(input(\"Enter the no. of Rows:\"))\n",
    "    n = int(input(\"Enter the no. of Columns:\"))\n",
    "\n",
    "    for i in range(m):\n",
    "        row = []\n",
    "        for j in range(n):\n",
    "            row.append(int(input(f\"Enter the value of position {i+1},{j+1}: \")))\n",
    "        matrix.append(row)\n",
    "    return matrix,n,m\n",
    "\n",
    "mat1,n1,m1 = Matrix(1)\n",
    "mat2,n2,m2 = Matrix(2)\n",
    "\n",
    "if n1 == m2:\n",
    "    for i in range(m1):\n",
    "        row=[]\n",
    "        for j in range(n1):\n",
    "            s=0\n",
    "            for k in range(n2):\n",
    "                s+=mat1[i][k]*mat2[k][j]\n",
    "            row.append(s)\n",
    "        result.append(row)\n",
    "    for elem in result:\n",
    "        print(elem)\n",
    "else:\n",
    "    print(\"Multiplication not possible, because no of columns of first matrix is not equal to the number of rows of second matrix\")"
   ]
  },
  {
   "cell_type": "code",
   "execution_count": 2,
   "id": "c9fcf34f",
   "metadata": {},
   "outputs": [
    {
     "name": "stdout",
     "output_type": "stream",
     "text": [
      "Matrix 1:\n",
      "Enter the no. of Rows:2\n",
      "Enter the no. of Columns:1\n",
      "Enter the value of position 1,1: 3\n",
      "Enter the value of position 2,1: 3\n",
      "Matrix 2:\n",
      "Enter the no. of Rows:1\n",
      "Enter the no. of Columns:2\n",
      "Enter the value of position 1,1: 2\n",
      "Enter the value of position 1,2: 2\n",
      "6\n"
     ]
    },
    {
     "ename": "IndexError",
     "evalue": "list index out of range",
     "output_type": "error",
     "traceback": [
      "\u001b[0;31m---------------------------------------------------------------------------\u001b[0m",
      "\u001b[0;31mIndexError\u001b[0m                                Traceback (most recent call last)",
      "Cell \u001b[0;32mIn [2], line 24\u001b[0m\n\u001b[1;32m     22\u001b[0m s\u001b[38;5;241m=\u001b[39m[]\n\u001b[1;32m     23\u001b[0m \u001b[38;5;28;01mfor\u001b[39;00m k \u001b[38;5;129;01min\u001b[39;00m \u001b[38;5;28mrange\u001b[39m(n2):\n\u001b[0;32m---> 24\u001b[0m     s\u001b[38;5;241m.\u001b[39mappend(mat1[i][k]\u001b[38;5;241m*\u001b[39mmat2[k][j])\n\u001b[1;32m     25\u001b[0m     \u001b[38;5;28mprint\u001b[39m(\u001b[38;5;28msum\u001b[39m(s))\n\u001b[1;32m     26\u001b[0m row\u001b[38;5;241m.\u001b[39mappend(s)\n",
      "\u001b[0;31mIndexError\u001b[0m: list index out of range"
     ]
    }
   ],
   "source": [
    "result=[]\n",
    "def Matrix(n):\n",
    "    matrix=[]\n",
    "    print(f\"Matrix {n}:\")\n",
    "    m = int(input(\"Enter the no. of Rows:\"))\n",
    "    n = int(input(\"Enter the no. of Columns:\"))\n",
    "\n",
    "    for i in range(m):\n",
    "        row = []\n",
    "        for j in range(n):\n",
    "            row.append(int(input(f\"Enter the value of position {i+1},{j+1}: \")))\n",
    "        matrix.append(row)\n",
    "    return matrix,n,m\n",
    "\n",
    "mat1,n1,m1 = Matrix(1)\n",
    "mat2,n2,m2 = Matrix(2)\n",
    "\n",
    "if n1 == m2:\n",
    "    for i in range(m1):\n",
    "        row=[]\n",
    "        for j in range(n1):\n",
    "            s=[]\n",
    "            for k in range(n2):\n",
    "                s.append(mat1[i][k]*mat2[k][j])\n",
    "                print(sum(s))\n",
    "            row.append(s)\n",
    "        result.append(row)\n",
    "    print(result)\n",
    "else:\n",
    "    print(\"Multiplication not possible, because no of columns of first matrix is not equal to the number of rows of second matrix\")"
   ]
  }
 ],
 "metadata": {
  "kernelspec": {
   "display_name": "Python 3 (ipykernel)",
   "language": "python",
   "name": "python3"
  },
  "language_info": {
   "codemirror_mode": {
    "name": "ipython",
    "version": 3
   },
   "file_extension": ".py",
   "mimetype": "text/x-python",
   "name": "python",
   "nbconvert_exporter": "python",
   "pygments_lexer": "ipython3",
   "version": "3.8.10"
  }
 },
 "nbformat": 4,
 "nbformat_minor": 5
}
