{
 "cells": [
  {
   "cell_type": "markdown",
   "id": "38a5920b",
   "metadata": {},
   "source": [
    "### Algorithm 1.a\n",
    "1. Start\n",
    "2. read 3 numbers a,b,c\n",
    "3. if a>b and a>c then print a is the largest\n",
    "4. if b>a and b>c then print b is the largest\n",
    "5. else print c is the largest\n",
    "6. end"
   ]
  },
  {
   "cell_type": "code",
   "execution_count": 1,
   "id": "515546a7",
   "metadata": {},
   "outputs": [
    {
     "name": "stdout",
     "output_type": "stream",
     "text": [
      "Enter the First number:1\n",
      "Enter the Second number:2\n",
      "Enter the Third number:3\n",
      "3 is the largest.\n"
     ]
    }
   ],
   "source": [
    "a=int(input(\"Enter the First number:\"))\n",
    "b=int(input(\"Enter the Second number:\"))\n",
    "c=int(input(\"Enter the Third number:\"))\n",
    "if a>=b and a>=c:\n",
    "    print(a,\"is the largest.\")\n",
    "elif b>=a and b>=c:\n",
    "    print(b,\"is the largest.\")\n",
    "else:\n",
    "    print(c,\"is the largest.\")"
   ]
  },
  {
   "cell_type": "markdown",
   "id": "6a4c60e7",
   "metadata": {},
   "source": [
    "### Algorithm 1.b\n",
    "1. Start\n",
    "2. read number and limit to the variables num and lim\n",
    "3. using for loop, i upto a range of lim+1, \n",
    "4. print num * i\n",
    "5. end for loop\n",
    "6. end"
   ]
  },
  {
   "cell_type": "code",
   "execution_count": 6,
   "id": "654090e5",
   "metadata": {},
   "outputs": [
    {
     "name": "stdout",
     "output_type": "stream",
     "text": [
      "Enter the number: 4\n",
      "Enter the limit: 5\n",
      "4 x 1 = 4\n",
      "4 x 2 = 8\n",
      "4 x 3 = 12\n",
      "4 x 4 = 16\n",
      "4 x 5 = 20\n"
     ]
    }
   ],
   "source": [
    "num=int(input(\"Enter the number: \"))\n",
    "lim=int(input(\"Enter the limit: \"))\n",
    "for i in range(1,lim+1):\n",
    "    print(num,\"x\",i,\"=\",num*i)"
   ]
  },
  {
   "cell_type": "markdown",
   "id": "6e207941",
   "metadata": {},
   "source": [
    "### Algorithm 1.c\n",
    "1. Start\n",
    "2. read a number num\n",
    "3. initialize sum s as 0\n",
    "4. using for loop, i upto a range of num+1, \n",
    "5. perform s= s+i\n",
    "5. end for loop\n",
    "6. print the result s\n",
    "7. end"
   ]
  },
  {
   "cell_type": "code",
   "execution_count": 4,
   "id": "a6a63a8e",
   "metadata": {},
   "outputs": [
    {
     "name": "stdout",
     "output_type": "stream",
     "text": [
      "Enter the number: 4\n",
      "Sum = 10\n"
     ]
    }
   ],
   "source": [
    "num=int(input(\"Enter the number: \"))\n",
    "s=0\n",
    "for i in range(1,num+1):\n",
    "    s=s+i\n",
    "print(\"Sum =\",s)"
   ]
  },
  {
   "cell_type": "markdown",
   "id": "1f0e3239",
   "metadata": {},
   "source": [
    "### Algorithm 2.a\n",
    "1. Start\n",
    "2. define function as largest of 3 with parameters a,b,c\n",
    "2. 1. if a>b and a>c then return a\n",
    "2. 2. if b>a and b>c then return b\n",
    "2. 3. else return c\n",
    "2. 4. end function\n",
    "7. read 3 numbers a,b,c\n",
    "8. call function largest_of_3\n",
    "8. assign result as output of function\n",
    "9. print result is the largest\n",
    "10. End"
   ]
  },
  {
   "cell_type": "code",
   "execution_count": 14,
   "id": "d01faf41",
   "metadata": {},
   "outputs": [],
   "source": [
    "def largest_of_3(a,b,c):\n",
    "    if a>=b and a>=c:\n",
    "        return a\n",
    "    elif b>=a and b>=c:\n",
    "        return b\n",
    "    else:\n",
    "        return c"
   ]
  },
  {
   "cell_type": "code",
   "execution_count": 61,
   "id": "fae6f1cf",
   "metadata": {},
   "outputs": [
    {
     "name": "stdout",
     "output_type": "stream",
     "text": [
      "Enter the First number:1\n",
      "Enter the Second number:3\n",
      "Enter the Third number:4\n",
      "4 is the largest.\n"
     ]
    }
   ],
   "source": [
    "a=int(input(\"Enter the First number:\"))\n",
    "b=int(input(\"Enter the Second number:\"))\n",
    "c=int(input(\"Enter the Third number:\"))\n",
    "result=largest_of_3(a,b,c)\n",
    "print(result,\"is the largest.\")"
   ]
  },
  {
   "cell_type": "markdown",
   "id": "5b2e3273",
   "metadata": {},
   "source": [
    "###  Algorithm 2.b\n",
    "1. Start\n",
    "2. define function as factorial with parameter n\n",
    "3. initialize product as 1\n",
    "4. using for loop, num upto a range of n+1\n",
    "5. perform prod=prod*num\n",
    "6. end for loop\n",
    "7. return prod\n",
    "8. end function\n",
    "9. read a number n\n",
    "10. assign result as output of function\n",
    "11. print factorial of n is result\n",
    "12. End"
   ]
  },
  {
   "cell_type": "code",
   "execution_count": 63,
   "id": "14225e54",
   "metadata": {},
   "outputs": [],
   "source": [
    "def factorial(n):\n",
    "    prod=1\n",
    "    for num in range(1,n+1):\n",
    "        prod=prod*num\n",
    "    return prod"
   ]
  },
  {
   "cell_type": "code",
   "execution_count": 64,
   "id": "e40f470d",
   "metadata": {},
   "outputs": [
    {
     "name": "stdout",
     "output_type": "stream",
     "text": [
      "Enter the Number: 5\n",
      "Factorial of 5 is 120\n"
     ]
    }
   ],
   "source": [
    "n=int(input(\"Enter the Number: \"))\n",
    "result=factorial(n)\n",
    "print(\"Factorial of\",n,\"is\",result)"
   ]
  },
  {
   "cell_type": "markdown",
   "id": "8a2475df",
   "metadata": {},
   "source": [
    "### Algorithm 2.c\n",
    "1. Start\n",
    "2. define function as fibonnaci with parameter n\n",
    "3. intialize a as 0 and b as 1\n",
    "4. print a and b\n",
    "5. using while loop, with condition b < n\n",
    "6. assign t=b\n",
    "7. update b=b+a\n",
    "8. update a=t\n",
    "9. if b < n then print b\n",
    "10. end while loop\n",
    "11. end function\n",
    "12. End"
   ]
  },
  {
   "cell_type": "code",
   "execution_count": 54,
   "id": "faff34d8",
   "metadata": {},
   "outputs": [],
   "source": [
    "def fibonnaci(n):\n",
    "    a=0\n",
    "    b=1\n",
    "    print(a)\n",
    "    print(b)\n",
    "    while b<n:\n",
    "        t=b\n",
    "        b=b+a\n",
    "        a=t\n",
    "        if b<n:\n",
    "            print(b)"
   ]
  },
  {
   "cell_type": "code",
   "execution_count": 55,
   "id": "84a23e54",
   "metadata": {},
   "outputs": [
    {
     "name": "stdout",
     "output_type": "stream",
     "text": [
      "0\n",
      "1\n",
      "1\n",
      "2\n",
      "3\n",
      "5\n"
     ]
    }
   ],
   "source": [
    "fibonnaci(6)"
   ]
  },
  {
   "cell_type": "markdown",
   "id": "33e0fe11",
   "metadata": {},
   "source": [
    "### Algorithm 2.d\n",
    "1. Start\n",
    "2. define function as surface_area with parameters r,h\n",
    "3. return area\n",
    "4. end function\n",
    "5. define function as volume with parameters r,h\n",
    "6. return volume\n",
    "7. end function\n",
    "8. read two numbers radius and height\n",
    "9. print Surface area of cylinder is surface_area()\n",
    "10. print Volume of cyliner is volume()\n",
    "11. End"
   ]
  },
  {
   "cell_type": "code",
   "execution_count": 56,
   "id": "d41994f3",
   "metadata": {},
   "outputs": [],
   "source": [
    "def surface_area(r,h):\n",
    "    return ((2*(22/7)*r*r)+(2*(22/7)*r*h))"
   ]
  },
  {
   "cell_type": "code",
   "execution_count": 58,
   "id": "de900cde",
   "metadata": {},
   "outputs": [],
   "source": [
    "def volume(r,h):\n",
    "    return ((22/7)*r*r*h)"
   ]
  },
  {
   "cell_type": "code",
   "execution_count": 60,
   "id": "7b88dd99",
   "metadata": {},
   "outputs": [
    {
     "name": "stdout",
     "output_type": "stream",
     "text": [
      "Enter the radius: 7\n",
      "Enter the height: 10\n",
      "The Surface Area of the Cylinder is 748.0\n",
      "The Volume of the Cylinder is 1540.0\n"
     ]
    }
   ],
   "source": [
    "r=int(input(\"Enter the radius: \"))\n",
    "h=int(input(\"Enter the height: \"))\n",
    "print(\"The Surface Area of the Cylinder is\",surface_area(r,h))\n",
    "print(\"The Volume of the Cylinder is\",volume(r,h))"
   ]
  },
  {
   "cell_type": "code",
   "execution_count": 11,
   "id": "1a12ec72",
   "metadata": {},
   "outputs": [
    {
     "name": "stdout",
     "output_type": "stream",
     "text": [
      "Enter the String: tejas\n",
      "Not Palindrome\n"
     ]
    }
   ],
   "source": [
    "a=input(\"Enter the String: \")\n",
    "j=len(a)-1\n",
    "i=0\n",
    "flag=1\n",
    "while i<j:\n",
    "    if a[i]==a[j]:\n",
    "        i+=1\n",
    "        j-=1\n",
    "    else:\n",
    "        flag=0\n",
    "        i+=1\n",
    "        j-=1\n",
    "if flag == 0:\n",
    "    print(\"Not Palindrome\")\n",
    "else:\n",
    "    print(\"Palindrome\")"
   ]
  },
  {
   "cell_type": "code",
   "execution_count": 13,
   "id": "82384092",
   "metadata": {},
   "outputs": [
    {
     "name": "stdout",
     "output_type": "stream",
     "text": [
      "Enter the String: aaabcd\n",
      "Enter the Character to be searched: a\n",
      "3\n"
     ]
    }
   ],
   "source": [
    "a=input(\"Enter the String: \")\n",
    "b=input(\"Enter the Character to be searched: \")\n",
    "no=a.count(b)\n",
    "print(no)"
   ]
  },
  {
   "cell_type": "code",
   "execution_count": null,
   "id": "383212d0",
   "metadata": {},
   "outputs": [],
   "source": [
    "a=input(\"Enter the String: \")\n",
    "b=input(\"Enter the character to be replaced: \")\n",
    "c=input(\"Enter the character to be replaced: \")\n",
    "z=a.replace(b,c)\n",
    "print(z)"
   ]
  },
  {
   "cell_type": "code",
   "execution_count": 8,
   "id": "0234b4fa",
   "metadata": {},
   "outputs": [
    {
     "name": "stdout",
     "output_type": "stream",
     "text": [
      "Enter the number of values: 3\n",
      "Enter the number: 2\n",
      "Enter the number: 4\n",
      "Enter the number: 5\n",
      "(2, 4, 5)\n",
      "2\n",
      "4\n"
     ]
    }
   ],
   "source": [
    "n=int(input(\"Enter the number of values: \"))\n",
    "tup=tuple()\n",
    "for i in range(n):\n",
    "    no=int(input(\"Enter the number: \"))\n",
    "    tup=tup+(no,)\n",
    "print(tup)\n",
    "for num in tup:\n",
    "    if num%2 == 0:\n",
    "        print(num)\n"
   ]
  },
  {
   "cell_type": "code",
   "execution_count": 10,
   "id": "a94d9a1b",
   "metadata": {},
   "outputs": [
    {
     "name": "stdout",
     "output_type": "stream",
     "text": [
      "Enter the no. of elements in Tuple 1: 3\n",
      "Enter the elements for Tuple 1: 1\n",
      "Enter the elements for Tuple 1: 2\n",
      "Enter the elements for Tuple 1: 3\n",
      "Enter the no. of elements in Tuple 2: 3\n",
      "Enter the elements for Tuple 2: 3\n",
      "Enter the elements for Tuple 2: 2\n",
      "Enter the elements for Tuple 2: 1\n",
      "\n",
      "Max value of Tuple 1 is 3\n",
      "Max value of Tuple 2 is 3\n",
      "******************************\n",
      "Min value of Tuple 1 is 1\n",
      "Min value of Tuple 2 is 1\n",
      "******************************\n",
      "After comparing, Both tuples are not equal...\n"
     ]
    }
   ],
   "source": [
    "def cmp(t1,t2):\n",
    "    flag=1\n",
    "    if len(t1) != len(t2):\n",
    "        flag=1\n",
    "    else:\n",
    "        for i in range(len(t1)):\n",
    "            if t1[i]==t2[i]:\n",
    "                flag=0\n",
    "            else:\n",
    "                flag=1\n",
    "    if flag==0:\n",
    "        return \"Both tuples are equal...\"\n",
    "    else:\n",
    "        return \"Both tuples are not equal...\"\n",
    "\n",
    "tup1,tup2=tuple(),tuple()\n",
    "n = int(input(\"Enter the no. of elements in Tuple 1: \"))\n",
    "for i in range(n):\n",
    "    tup1+=(int(input(\"Enter the elements for Tuple 1: \")),)\n",
    "m = int(input(\"Enter the no. of elements in Tuple 2: \"))\n",
    "for i in range(m):\n",
    "    tup2+=(int(input(\"Enter the elements for Tuple 2: \")),)\n",
    "\n",
    "print(\"\\nMax value of Tuple 1 is\",max(tup1))\n",
    "print(\"Max value of Tuple 2 is\",max(tup2))\n",
    "print(\"*\"*30)\n",
    "print(\"Min value of Tuple 1 is\",min(tup1))\n",
    "print(\"Min value of Tuple 2 is\",min(tup2))\n",
    "print(\"*\"*30)\n",
    "print(\"After comparing,\",cmp(tup1,tup2))"
   ]
  },
  {
   "cell_type": "code",
   "execution_count": null,
   "id": "4b614057",
   "metadata": {},
   "outputs": [],
   "source": []
  }
 ],
 "metadata": {
  "kernelspec": {
   "display_name": "Python 3 (ipykernel)",
   "language": "python",
   "name": "python3"
  },
  "language_info": {
   "codemirror_mode": {
    "name": "ipython",
    "version": 3
   },
   "file_extension": ".py",
   "mimetype": "text/x-python",
   "name": "python",
   "nbconvert_exporter": "python",
   "pygments_lexer": "ipython3",
   "version": "3.8.10"
  }
 },
 "nbformat": 4,
 "nbformat_minor": 5
}
