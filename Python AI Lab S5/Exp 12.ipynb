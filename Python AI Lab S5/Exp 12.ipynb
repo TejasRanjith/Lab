{
 "cells": [
  {
   "cell_type": "code",
   "execution_count": 3,
   "id": "f65b7743",
   "metadata": {},
   "outputs": [
    {
     "name": "stdout",
     "output_type": "stream",
     "text": [
      "<class 'pandas.core.frame.DataFrame'>\n",
      "RangeIndex: 297 entries, 0 to 296\n",
      "Data columns (total 14 columns):\n",
      "age          297 non-null int64\n",
      "sex          297 non-null int64\n",
      "cp           297 non-null int64\n",
      "trestbps     297 non-null int64\n",
      "chol         297 non-null int64\n",
      "fbs          297 non-null int64\n",
      "restecg      297 non-null int64\n",
      "thalach      297 non-null int64\n",
      "exang        297 non-null int64\n",
      "oldpeak      297 non-null float64\n",
      "slope        297 non-null int64\n",
      "ca           297 non-null int64\n",
      "thal         297 non-null int64\n",
      "condition    297 non-null int64\n",
      "dtypes: float64(1), int64(13)\n",
      "memory usage: 32.6 KB\n"
     ]
    }
   ],
   "source": [
    "import numpy as np\n",
    "import pandas as pd\n",
    "df=pd.read_csv('heart_cleveland.csv')\n",
    "\n",
    "df.info()"
   ]
  },
  {
   "cell_type": "code",
   "execution_count": 9,
   "id": "990d89da",
   "metadata": {},
   "outputs": [],
   "source": [
    "correlation_matrix = df.corr()\n",
    "covariance_matrix = df.cov()"
   ]
  },
  {
   "cell_type": "code",
   "execution_count": 10,
   "id": "5f7c1cdb",
   "metadata": {},
   "outputs": [
    {
     "name": "stdout",
     "output_type": "stream",
     "text": [
      "Correlation Matrix : \n",
      "\n",
      "                age       sex        cp  trestbps      chol       fbs  \\\n",
      "age        1.000000 -0.092399  0.110471  0.290476  0.202644  0.132062   \n",
      "sex       -0.092399  1.000000  0.008908 -0.066340 -0.198089  0.038850   \n",
      "cp         0.110471  0.008908  1.000000 -0.036980  0.072088 -0.057663   \n",
      "trestbps   0.290476 -0.066340 -0.036980  1.000000  0.131536  0.180860   \n",
      "chol       0.202644 -0.198089  0.072088  0.131536  1.000000  0.012708   \n",
      "fbs        0.132062  0.038850 -0.057663  0.180860  0.012708  1.000000   \n",
      "restecg    0.149917  0.033897  0.063905  0.149242  0.165046  0.068831   \n",
      "thalach   -0.394563 -0.060496 -0.339308 -0.049108 -0.000075 -0.007842   \n",
      "exang      0.096489  0.143581  0.377525  0.066691  0.059339 -0.000893   \n",
      "oldpeak    0.197123  0.106567  0.203244  0.191243  0.038596  0.008311   \n",
      "slope      0.159405  0.033345  0.151079  0.121172 -0.009215  0.047819   \n",
      "ca         0.362210  0.091925  0.235644  0.097954  0.115945  0.152086   \n",
      "thal       0.120795  0.370556  0.266275  0.130612  0.023441  0.051038   \n",
      "condition  0.227075  0.278467  0.408945  0.153490  0.080285  0.003167   \n",
      "\n",
      "            restecg   thalach     exang   oldpeak     slope        ca  \\\n",
      "age        0.149917 -0.394563  0.096489  0.197123  0.159405  0.362210   \n",
      "sex        0.033897 -0.060496  0.143581  0.106567  0.033345  0.091925   \n",
      "cp         0.063905 -0.339308  0.377525  0.203244  0.151079  0.235644   \n",
      "trestbps   0.149242 -0.049108  0.066691  0.191243  0.121172  0.097954   \n",
      "chol       0.165046 -0.000075  0.059339  0.038596 -0.009215  0.115945   \n",
      "fbs        0.068831 -0.007842 -0.000893  0.008311  0.047819  0.152086   \n",
      "restecg    1.000000 -0.072290  0.081874  0.113726  0.135141  0.129021   \n",
      "thalach   -0.072290  1.000000 -0.384368 -0.347640 -0.389307 -0.268727   \n",
      "exang      0.081874 -0.384368  1.000000  0.289310  0.250572  0.148232   \n",
      "oldpeak    0.113726 -0.347640  0.289310  1.000000  0.579037  0.294452   \n",
      "slope      0.135141 -0.389307  0.250572  0.579037  1.000000  0.109761   \n",
      "ca         0.129021 -0.268727  0.148232  0.294452  0.109761  1.000000   \n",
      "thal       0.013612 -0.258386  0.323268  0.336809  0.260096  0.248825   \n",
      "condition  0.166343 -0.423817  0.421355  0.424052  0.333049  0.463189   \n",
      "\n",
      "               thal  condition  \n",
      "age        0.120795   0.227075  \n",
      "sex        0.370556   0.278467  \n",
      "cp         0.266275   0.408945  \n",
      "trestbps   0.130612   0.153490  \n",
      "chol       0.023441   0.080285  \n",
      "fbs        0.051038   0.003167  \n",
      "restecg    0.013612   0.166343  \n",
      "thalach   -0.258386  -0.423817  \n",
      "exang      0.323268   0.421355  \n",
      "oldpeak    0.336809   0.424052  \n",
      "slope      0.260096   0.333049  \n",
      "ca         0.248825   0.463189  \n",
      "thal       1.000000   0.520516  \n",
      "condition  0.520516   1.000000  \n",
      "\n",
      "Top 5 attributes closely related to the predicted attribute:\n",
      "thal       0.520516\n",
      "ca         0.463189\n",
      "oldpeak    0.424052\n",
      "thalach    0.423817\n",
      "exang      0.421355\n",
      "Name: condition, dtype: float64\n"
     ]
    }
   ],
   "source": [
    "target_correlation = correlation_matrix['condition'].abs().sort_values(ascending=False)\n",
    "top_5_attributes = target_correlation[1:6]\n",
    "print(\"Correlation Matrix : \\n\")\n",
    "print(correlation_matrix)\n",
    "print(\"\\nTop 5 attributes closely related to the predicted attribute:\")\n",
    "print(top_5_attributes)"
   ]
  },
  {
   "cell_type": "code",
   "execution_count": 13,
   "id": "ca85f523",
   "metadata": {},
   "outputs": [
    {
     "data": {
      "image/png": "[encoded data removed]",
      "text/plain": [
       "<Figure size 640x480 with 1 Axes>"
      ]
     },
     "metadata": {},
     "output_type": "display_data"
    }
   ],
   "source": [
    "import matplotlib.pyplot as plt\n",
    "import seaborn as sns\n",
    "sns.barplot(x=top_5_attributes.index,y=top_5_attributes.values,palette='Blues')\n",
    "plt.xlabel('Attributes',fontsize=12)\n",
    "plt.ylabel('Absolute Correlation',fontsize=12)\n",
    "plt.show()"
   ]
  },
  {
   "cell_type": "code",
   "execution_count": null,
   "id": "2d010983",
   "metadata": {},
   "outputs": [],
   "source": []
  }
 ],
 "metadata": {
  "kernelspec": {
   "display_name": "Python 3 (ipykernel)",
   "language": "python",
   "name": "python3"
  },
  "language_info": {
   "codemirror_mode": {
    "name": "ipython",
    "version": 3
   },
   "file_extension": ".py",
   "mimetype": "text/x-python",
   "name": "python",
   "nbconvert_exporter": "python",
   "pygments_lexer": "ipython3",
   "version": "3.8.10"
  }
 },
 "nbformat": 4,
 "nbformat_minor": 5
}
