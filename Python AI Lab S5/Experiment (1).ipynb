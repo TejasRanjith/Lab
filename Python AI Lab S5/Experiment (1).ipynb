{
  "cells": [
    {
      "cell_type": "code",
      "execution_count": 1,
      "id": "4b6fe487",
      "metadata": {
        "colab": {
          "base_uri": "https://localhost:8080/",
          "height": 423
        },
        "id": "4b6fe487",
        "outputId": "2dbe4591-f527-4f68-fc45-d2da0a7af1f5"
      },
      "outputs": [
        {
          "data": {
            "text/html": [
              "<div>\n",
              "<style scoped>\n",
              "    .dataframe tbody tr th:only-of-type {\n",
              "        vertical-align: middle;\n",
              "    }\n",
              "\n",
              "    .dataframe tbody tr th {\n",
              "        vertical-align: top;\n",
              "    }\n",
              "\n",
              "    .dataframe thead th {\n",
              "        text-align: right;\n",
              "    }\n",
              "</style>\n",
              "<table border=\"1\" class=\"dataframe\">\n",
              "  <thead>\n",
              "    <tr style=\"text-align: right;\">\n",
              "      <th></th>\n",
              "      <th>date</th>\n",
              "      <th>hour</th>\n",
              "      <th>demand</th>\n",
              "    </tr>\n",
              "  </thead>\n",
              "  <tbody>\n",
              "    <tr>\n",
              "      <th>0</th>\n",
              "      <td>18-08-2018</td>\n",
              "      <td>9</td>\n",
              "      <td>91.0</td>\n",
              "    </tr>\n",
              "    <tr>\n",
              "      <th>1</th>\n",
              "      <td>18-08-2018</td>\n",
              "      <td>10</td>\n",
              "      <td>21.0</td>\n",
              "    </tr>\n",
              "    <tr>\n",
              "      <th>2</th>\n",
              "      <td>18-08-2018</td>\n",
              "      <td>13</td>\n",
              "      <td>23.0</td>\n",
              "    </tr>\n",
              "    <tr>\n",
              "      <th>3</th>\n",
              "      <td>18-08-2018</td>\n",
              "      <td>14</td>\n",
              "      <td>104.0</td>\n",
              "    </tr>\n",
              "    <tr>\n",
              "      <th>4</th>\n",
              "      <td>18-08-2018</td>\n",
              "      <td>15</td>\n",
              "      <td>81.0</td>\n",
              "    </tr>\n",
              "    <tr>\n",
              "      <th>...</th>\n",
              "      <td>...</td>\n",
              "      <td>...</td>\n",
              "      <td>...</td>\n",
              "    </tr>\n",
              "    <tr>\n",
              "      <th>495</th>\n",
              "      <td>19-09-2018</td>\n",
              "      <td>11</td>\n",
              "      <td>36.0</td>\n",
              "    </tr>\n",
              "    <tr>\n",
              "      <th>496</th>\n",
              "      <td>19-09-2018</td>\n",
              "      <td>12</td>\n",
              "      <td>54.0</td>\n",
              "    </tr>\n",
              "    <tr>\n",
              "      <th>497</th>\n",
              "      <td>19-09-2018</td>\n",
              "      <td>13</td>\n",
              "      <td>24.0</td>\n",
              "    </tr>\n",
              "    <tr>\n",
              "      <th>498</th>\n",
              "      <td>19-09-2018</td>\n",
              "      <td>14</td>\n",
              "      <td>65.0</td>\n",
              "    </tr>\n",
              "    <tr>\n",
              "      <th>499</th>\n",
              "      <td>19-09-2018</td>\n",
              "      <td>15</td>\n",
              "      <td>9.0</td>\n",
              "    </tr>\n",
              "  </tbody>\n",
              "</table>\n",
              "<p>500 rows × 3 columns</p>\n",
              "</div>"
            ],
            "text/plain": [
              "           date  hour  demand\n",
              "0    18-08-2018     9    91.0\n",
              "1    18-08-2018    10    21.0\n",
              "2    18-08-2018    13    23.0\n",
              "3    18-08-2018    14   104.0\n",
              "4    18-08-2018    15    81.0\n",
              "..          ...   ...     ...\n",
              "495  19-09-2018    11    36.0\n",
              "496  19-09-2018    12    54.0\n",
              "497  19-09-2018    13    24.0\n",
              "498  19-09-2018    14    65.0\n",
              "499  19-09-2018    15     9.0\n",
              "\n",
              "[500 rows x 3 columns]"
            ]
          },
          "execution_count": 1,
          "metadata": {},
          "output_type": "execute_result"
        }
      ],
      "source": [
        "import pandas as pd\n",
        "import matplotlib.pyplot as plt\n",
        "import seaborn as sns\n",
        "\n",
        "df = pd.read_csv(\"train_cars.csv\")   #write path/train_cars.csv in record\n",
        "\n",
        "df.head(500)"
      ]
    },
    {
      "cell_type": "code",
      "execution_count": 2,
      "id": "29eca7b5",
      "metadata": {
        "colab": {
          "base_uri": "https://localhost:8080/",
          "height": 178
        },
        "id": "29eca7b5",
        "outputId": "71ad61e2-56d2-4b1e-8d02-e3d26fb4b82d"
      },
      "outputs": [
        {
          "data": {
            "text/plain": [
              "date      18247\n",
              "hour      18247\n",
              "demand    18243\n",
              "dtype: int64"
            ]
          },
          "execution_count": 2,
          "metadata": {},
          "output_type": "execute_result"
        }
      ],
      "source": [
        "df.count()"
      ]
    },
    {
      "cell_type": "code",
      "execution_count": 3,
      "id": "037e9bef",
      "metadata": {
        "colab": {
          "base_uri": "https://localhost:8080/",
          "height": 178
        },
        "id": "037e9bef",
        "outputId": "d21cfe2a-f8f1-4058-9827-78a33ab24982"
      },
      "outputs": [
        {
          "data": {
            "text/plain": [
              "date      0\n",
              "hour      0\n",
              "demand    4\n",
              "dtype: int64"
            ]
          },
          "execution_count": 3,
          "metadata": {},
          "output_type": "execute_result"
        }
      ],
      "source": [
        "df.isna().sum()   #checks if there is any null value"
      ]
    },
    {
      "cell_type": "code",
      "execution_count": 4,
      "id": "a675f678",
      "metadata": {
        "colab": {
          "base_uri": "https://localhost:8080/",
          "height": 178
        },
        "id": "a675f678",
        "outputId": "20d7a873-5b47-4349-8a33-3697aa860fa2"
      },
      "outputs": [
        {
          "data": {
            "text/plain": [
              "date       object\n",
              "hour        int64\n",
              "demand    float64\n",
              "dtype: object"
            ]
          },
          "execution_count": 4,
          "metadata": {},
          "output_type": "execute_result"
        }
      ],
      "source": [
        "df.dtypes         #df.dtypes"
      ]
    },
    {
      "cell_type": "code",
      "execution_count": 5,
      "id": "e91357c4",
      "metadata": {
        "id": "e91357c4"
      },
      "outputs": [],
      "source": [
        "df['demand'] = df['demand'].fillna(df['demand'].mean())    #df.fillna"
      ]
    },
    {
      "cell_type": "code",
      "execution_count": 6,
      "id": "0a75cfe0",
      "metadata": {
        "colab": {
          "base_uri": "https://localhost:8080/",
          "height": 178
        },
        "id": "0a75cfe0",
        "outputId": "d60f4efb-04cd-4f35-8714-d799252a8f98"
      },
      "outputs": [
        {
          "data": {
            "text/plain": [
              "date      0\n",
              "hour      0\n",
              "demand    0\n",
              "dtype: int64"
            ]
          },
          "execution_count": 6,
          "metadata": {},
          "output_type": "execute_result"
        }
      ],
      "source": [
        "df.isna().sum()"
      ]
    },
    {
      "cell_type": "code",
      "execution_count": 7,
      "id": "3ea27ae3",
      "metadata": {
        "colab": {
          "base_uri": "https://localhost:8080/",
          "height": 0
        },
        "id": "3ea27ae3",
        "outputId": "2104546a-2404-4250-8d13-642d2827aac8"
      },
      "outputs": [
        {
          "name": "stderr",
          "output_type": "stream",
          "text": [
            "/tmp/ipykernel_6387/1162143821.py:1: UserWarning: Parsing dates in %d-%m-%Y format when dayfirst=False (the default) was specified. Pass `dayfirst=True` or specify a format to silence this warning.\n",
            "  df['date'] = pd.to_datetime(df['date'])       #pd.to_datetime\n"
          ]
        }
      ],
      "source": [
        "df['date'] = pd.to_datetime(df['date'])       #pd.to_datetime"
      ]
    },
    {
      "cell_type": "code",
      "execution_count": 8,
      "id": "9864f495",
      "metadata": {
        "id": "9864f495"
      },
      "outputs": [],
      "source": [
        "df['year'] = df['date'].apply(lambda x:x.year)"
      ]
    },
    {
      "cell_type": "code",
      "execution_count": 9,
      "id": "26eba2d0",
      "metadata": {
        "id": "26eba2d0"
      },
      "outputs": [],
      "source": [
        "df['month'] = df['date'].apply(lambda x:x.month)"
      ]
    },
    {
      "cell_type": "code",
      "execution_count": 10,
      "id": "225236c1",
      "metadata": {
        "id": "225236c1"
      },
      "outputs": [],
      "source": [
        "df['day'] = df['date'].apply(lambda x:x.day)"
      ]
    },
    {
      "cell_type": "code",
      "execution_count": 11,
      "id": "7c983824",
      "metadata": {
        "id": "7c983824"
      },
      "outputs": [],
      "source": [
        "df['dayofweek'] = df['date'].apply(lambda x:x.dayofweek)"
      ]
    },
    {
      "cell_type": "code",
      "execution_count": 12,
      "id": "dcda5fbd",
      "metadata": {
        "id": "dcda5fbd"
      },
      "outputs": [],
      "source": [
        "df['isquarterdate'] = df['date'].apply(lambda x:x.quarter)"
      ]
    },
    {
      "cell_type": "code",
      "execution_count": 13,
      "id": "21db133a",
      "metadata": {
        "id": "21db133a"
      },
      "outputs": [],
      "source": [
        "df['isweekend']=df['dayofweek'].apply(lambda x:1 if x>4 else 0)"
      ]
    },
    {
      "cell_type": "code",
      "execution_count": 14,
      "id": "1f3334ac",
      "metadata": {
        "id": "1f3334ac"
      },
      "outputs": [],
      "source": [
        "df.drop(['date'],axis=1,inplace=True)"
      ]
    },
    {
      "cell_type": "code",
      "execution_count": 15,
      "id": "d6704453",
      "metadata": {
        "id": "d6704453"
      },
      "outputs": [],
      "source": [
        "def timeOfDay(n):\n",
        "    if n in range(1,4):\n",
        "        return \"Late Night\"\n",
        "    elif n in range(4,7):\n",
        "        return \"Early Morning\"\n",
        "    elif n in range(7,12):\n",
        "        return \"Morning\"\n",
        "    elif n in range(12,15):\n",
        "        return \"After Noon\"\n",
        "    elif n in range(15,18):\n",
        "        return \"Evening\"\n",
        "    elif n in range(18,25) or n==0:\n",
        "        return \"Night\""
      ]
    },
    {
      "cell_type": "code",
      "execution_count": 16,
      "id": "7fd7102c",
      "metadata": {
        "id": "7fd7102c"
      },
      "outputs": [],
      "source": [
        "df['timeofday'] = df['hour'].apply(lambda x:timeOfDay(x))"
      ]
    },
    {
      "cell_type": "code",
      "execution_count": 17,
      "id": "38052b2a",
      "metadata": {
        "colab": {
          "base_uri": "https://localhost:8080/",
          "height": 0
        },
        "id": "38052b2a",
        "outputId": "36067ed9-c52d-48ac-bead-67156756c541"
      },
      "outputs": [
        {
          "data": {
            "text/plain": [
              "Index(['hour', 'demand', 'year', 'month', 'day', 'dayofweek', 'isquarterdate',\n",
              "       'isweekend', 'timeofday'],\n",
              "      dtype='object')"
            ]
          },
          "execution_count": 17,
          "metadata": {},
          "output_type": "execute_result"
        }
      ],
      "source": [
        "df.columns"
      ]
    },
    {
      "cell_type": "code",
      "execution_count": 18,
      "id": "827f2d92",
      "metadata": {
        "id": "827f2d92"
      },
      "outputs": [],
      "source": [
        "def monthToSeasons(n):\n",
        "    if n in [9,10,11]:\n",
        "        return \"Spring\"\n",
        "    elif n in [12,1,2]:\n",
        "        return \"Summer\"\n",
        "    elif n in [3,4,5]:\n",
        "        return \"Autumn\"\n",
        "    elif n in [6,7,8]:\n",
        "        return \"Winter\""
      ]
    },
    {
      "cell_type": "code",
      "execution_count": 19,
      "id": "61838f95",
      "metadata": {
        "id": "61838f95"
      },
      "outputs": [],
      "source": [
        "df['seasons'] = df['month'].apply(lambda x:monthToSeasons(x))"
      ]
    },
    {
      "cell_type": "code",
      "execution_count": 20,
      "id": "H7VCpZjRH_pT",
      "metadata": {
        "colab": {
          "base_uri": "https://localhost:8080/",
          "height": 423
        },
        "id": "H7VCpZjRH_pT",
        "outputId": "9676f9b0-cb51-4869-eebb-51e0b6371564"
      },
      "outputs": [
        {
          "data": {
            "text/html": [
              "<div>\n",
              "<style scoped>\n",
              "    .dataframe tbody tr th:only-of-type {\n",
              "        vertical-align: middle;\n",
              "    }\n",
              "\n",
              "    .dataframe tbody tr th {\n",
              "        vertical-align: top;\n",
              "    }\n",
              "\n",
              "    .dataframe thead th {\n",
              "        text-align: right;\n",
              "    }\n",
              "</style>\n",
              "<table border=\"1\" class=\"dataframe\">\n",
              "  <thead>\n",
              "    <tr style=\"text-align: right;\">\n",
              "      <th></th>\n",
              "      <th>hour</th>\n",
              "      <th>demand</th>\n",
              "      <th>year</th>\n",
              "      <th>month</th>\n",
              "      <th>day</th>\n",
              "      <th>dayofweek</th>\n",
              "      <th>isquarterdate</th>\n",
              "      <th>isweekend</th>\n",
              "      <th>timeofday</th>\n",
              "      <th>seasons</th>\n",
              "    </tr>\n",
              "  </thead>\n",
              "  <tbody>\n",
              "    <tr>\n",
              "      <th>0</th>\n",
              "      <td>9</td>\n",
              "      <td>91.0</td>\n",
              "      <td>2018</td>\n",
              "      <td>8</td>\n",
              "      <td>18</td>\n",
              "      <td>5</td>\n",
              "      <td>3</td>\n",
              "      <td>1</td>\n",
              "      <td>Morning</td>\n",
              "      <td>Winter</td>\n",
              "    </tr>\n",
              "    <tr>\n",
              "      <th>1</th>\n",
              "      <td>10</td>\n",
              "      <td>21.0</td>\n",
              "      <td>2018</td>\n",
              "      <td>8</td>\n",
              "      <td>18</td>\n",
              "      <td>5</td>\n",
              "      <td>3</td>\n",
              "      <td>1</td>\n",
              "      <td>Morning</td>\n",
              "      <td>Winter</td>\n",
              "    </tr>\n",
              "    <tr>\n",
              "      <th>2</th>\n",
              "      <td>13</td>\n",
              "      <td>23.0</td>\n",
              "      <td>2018</td>\n",
              "      <td>8</td>\n",
              "      <td>18</td>\n",
              "      <td>5</td>\n",
              "      <td>3</td>\n",
              "      <td>1</td>\n",
              "      <td>After Noon</td>\n",
              "      <td>Winter</td>\n",
              "    </tr>\n",
              "    <tr>\n",
              "      <th>3</th>\n",
              "      <td>14</td>\n",
              "      <td>104.0</td>\n",
              "      <td>2018</td>\n",
              "      <td>8</td>\n",
              "      <td>18</td>\n",
              "      <td>5</td>\n",
              "      <td>3</td>\n",
              "      <td>1</td>\n",
              "      <td>After Noon</td>\n",
              "      <td>Winter</td>\n",
              "    </tr>\n",
              "    <tr>\n",
              "      <th>4</th>\n",
              "      <td>15</td>\n",
              "      <td>81.0</td>\n",
              "      <td>2018</td>\n",
              "      <td>8</td>\n",
              "      <td>18</td>\n",
              "      <td>5</td>\n",
              "      <td>3</td>\n",
              "      <td>1</td>\n",
              "      <td>Evening</td>\n",
              "      <td>Winter</td>\n",
              "    </tr>\n",
              "    <tr>\n",
              "      <th>...</th>\n",
              "      <td>...</td>\n",
              "      <td>...</td>\n",
              "      <td>...</td>\n",
              "      <td>...</td>\n",
              "      <td>...</td>\n",
              "      <td>...</td>\n",
              "      <td>...</td>\n",
              "      <td>...</td>\n",
              "      <td>...</td>\n",
              "      <td>...</td>\n",
              "    </tr>\n",
              "    <tr>\n",
              "      <th>18242</th>\n",
              "      <td>19</td>\n",
              "      <td>95.0</td>\n",
              "      <td>2021</td>\n",
              "      <td>2</td>\n",
              "      <td>28</td>\n",
              "      <td>6</td>\n",
              "      <td>1</td>\n",
              "      <td>1</td>\n",
              "      <td>Night</td>\n",
              "      <td>Summer</td>\n",
              "    </tr>\n",
              "    <tr>\n",
              "      <th>18243</th>\n",
              "      <td>20</td>\n",
              "      <td>88.0</td>\n",
              "      <td>2021</td>\n",
              "      <td>2</td>\n",
              "      <td>28</td>\n",
              "      <td>6</td>\n",
              "      <td>1</td>\n",
              "      <td>1</td>\n",
              "      <td>Night</td>\n",
              "      <td>Summer</td>\n",
              "    </tr>\n",
              "    <tr>\n",
              "      <th>18244</th>\n",
              "      <td>21</td>\n",
              "      <td>39.0</td>\n",
              "      <td>2021</td>\n",
              "      <td>2</td>\n",
              "      <td>28</td>\n",
              "      <td>6</td>\n",
              "      <td>1</td>\n",
              "      <td>1</td>\n",
              "      <td>Night</td>\n",
              "      <td>Summer</td>\n",
              "    </tr>\n",
              "    <tr>\n",
              "      <th>18245</th>\n",
              "      <td>22</td>\n",
              "      <td>104.0</td>\n",
              "      <td>2021</td>\n",
              "      <td>2</td>\n",
              "      <td>28</td>\n",
              "      <td>6</td>\n",
              "      <td>1</td>\n",
              "      <td>1</td>\n",
              "      <td>Night</td>\n",
              "      <td>Summer</td>\n",
              "    </tr>\n",
              "    <tr>\n",
              "      <th>18246</th>\n",
              "      <td>23</td>\n",
              "      <td>85.0</td>\n",
              "      <td>2021</td>\n",
              "      <td>2</td>\n",
              "      <td>28</td>\n",
              "      <td>6</td>\n",
              "      <td>1</td>\n",
              "      <td>1</td>\n",
              "      <td>Night</td>\n",
              "      <td>Summer</td>\n",
              "    </tr>\n",
              "  </tbody>\n",
              "</table>\n",
              "<p>18247 rows × 10 columns</p>\n",
              "</div>"
            ],
            "text/plain": [
              "       hour  demand  year  month  day  dayofweek  isquarterdate  isweekend  \\\n",
              "0         9    91.0  2018      8   18          5              3          1   \n",
              "1        10    21.0  2018      8   18          5              3          1   \n",
              "2        13    23.0  2018      8   18          5              3          1   \n",
              "3        14   104.0  2018      8   18          5              3          1   \n",
              "4        15    81.0  2018      8   18          5              3          1   \n",
              "...     ...     ...   ...    ...  ...        ...            ...        ...   \n",
              "18242    19    95.0  2021      2   28          6              1          1   \n",
              "18243    20    88.0  2021      2   28          6              1          1   \n",
              "18244    21    39.0  2021      2   28          6              1          1   \n",
              "18245    22   104.0  2021      2   28          6              1          1   \n",
              "18246    23    85.0  2021      2   28          6              1          1   \n",
              "\n",
              "        timeofday seasons  \n",
              "0         Morning  Winter  \n",
              "1         Morning  Winter  \n",
              "2      After Noon  Winter  \n",
              "3      After Noon  Winter  \n",
              "4         Evening  Winter  \n",
              "...           ...     ...  \n",
              "18242       Night  Summer  \n",
              "18243       Night  Summer  \n",
              "18244       Night  Summer  \n",
              "18245       Night  Summer  \n",
              "18246       Night  Summer  \n",
              "\n",
              "[18247 rows x 10 columns]"
            ]
          },
          "execution_count": 20,
          "metadata": {},
          "output_type": "execute_result"
        }
      ],
      "source": [
        "df"
      ]
    },
    {
      "cell_type": "code",
      "execution_count": 21,
      "id": "VaGNpxhyIDrO",
      "metadata": {
        "colab": {
          "base_uri": "https://localhost:8080/",
          "height": 397
        },
        "id": "VaGNpxhyIDrO",
        "outputId": "98de297e-f4ff-454b-e0c0-57603843d53c"
      },
      "outputs": [
        {
          "data": {
            "text/plain": [
              "hour               int64\n",
              "demand           float64\n",
              "year               int64\n",
              "month              int64\n",
              "day                int64\n",
              "dayofweek          int64\n",
              "isquarterdate      int64\n",
              "isweekend          int64\n",
              "timeofday         object\n",
              "seasons           object\n",
              "dtype: object"
            ]
          },
          "execution_count": 21,
          "metadata": {},
          "output_type": "execute_result"
        }
      ],
      "source": [
        "df.dtypes"
      ]
    },
    {
      "cell_type": "code",
      "execution_count": 22,
      "id": "62aa4dfa",
      "metadata": {
        "colab": {
          "base_uri": "https://localhost:8080/",
          "height": 1483
        },
        "id": "62aa4dfa",
        "outputId": "d93be98f-4a29-443d-b071-1e2b81d2e581"
      },
      "outputs": [
        {
          "name": "stderr",
          "output_type": "stream",
          "text": [
            "/tmp/ipykernel_6387/197722869.py:2: FutureWarning: \n",
            "\n",
            "Passing `palette` without assigning `hue` is deprecated and will be removed in v0.14.0. Assign the `x` variable to `hue` and set `legend=False` for the same effect.\n",
            "\n",
            "  sns.barplot(x=df[elem],y=df['demand'],palette='Set2')\n"
          ]
        },
        {
          "data": {
            "image/png": "[encoded data removed]",
            "text/plain": [
              "<Figure size 640x480 with 1 Axes>"
            ]
          },
          "metadata": {},
          "output_type": "display_data"
        },
        {
          "name": "stderr",
          "output_type": "stream",
          "text": [
            "/tmp/ipykernel_6387/197722869.py:2: FutureWarning: \n",
            "\n",
            "Passing `palette` without assigning `hue` is deprecated and will be removed in v0.14.0. Assign the `x` variable to `hue` and set `legend=False` for the same effect.\n",
            "\n",
            "  sns.barplot(x=df[elem],y=df['demand'],palette='Set2')\n"
          ]
        },
        {
          "data": {
            "image/png": "[encoded data removed]",
            "text/plain": [
              "<Figure size 640x480 with 1 Axes>"
            ]
          },
          "metadata": {},
          "output_type": "display_data"
        },
        {
          "name": "stderr",
          "output_type": "stream",
          "text": [
            "/tmp/ipykernel_6387/197722869.py:2: FutureWarning: \n",
            "\n",
            "Passing `palette` without assigning `hue` is deprecated and will be removed in v0.14.0. Assign the `x` variable to `hue` and set `legend=False` for the same effect.\n",
            "\n",
            "  sns.barplot(x=df[elem],y=df['demand'],palette='Set2')\n"
          ]
        },
        {
          "data": {
            "image/png": "[encoded data removed]",
            "text/plain": [
              "<Figure size 640x480 with 1 Axes>"
            ]
          },
          "metadata": {},
          "output_type": "display_data"
        }
      ],
      "source": [
        "for elem in ['hour','seasons','timeofday']:\n",
        "    sns.barplot(x=df[elem],y=df['demand'],palette='Set2')\n",
        "    plt.show()"
      ]
    }
  ],
  "metadata": {
    "colab": {
      "provenance": []
    },
    "kernelspec": {
      "display_name": "Python 3 (ipykernel)",
      "language": "python",
      "name": "python3"
    },
    "language_info": {
      "codemirror_mode": {
        "name": "ipython",
        "version": 3
      },
      "file_extension": ".py",
      "mimetype": "text/x-python",
      "name": "python",
      "nbconvert_exporter": "python",
      "pygments_lexer": "ipython3",
      "version": "3.10.13"
    }
  },
  "nbformat": 4,
  "nbformat_minor": 5
}
